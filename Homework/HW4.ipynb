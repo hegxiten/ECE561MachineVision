{
 "cells": [
  {
   "cell_type": "code",
   "execution_count": 22,
   "metadata": {},
   "outputs": [],
   "source": [
    "import numpy as np"
   ]
  },
  {
   "cell_type": "code",
   "execution_count": 24,
   "metadata": {},
   "outputs": [],
   "source": [
    "a = [200.,         280.  ,       280.       ,  240.  ,       200.,\n",
    "  200.      ,   247.05882353 ,247.05882353, 223.52941176, 200.        ],[200,       200.  ,       260.  ,       300. ,        260.,\n",
    "  200,      200., 235.29411765,258.82352941,235.29411765]"
   ]
  },
  {
   "cell_type": "code",
   "execution_count": 26,
   "metadata": {},
   "outputs": [
    {
     "data": {
      "text/plain": [
       "array([[200.        , 200.        ],\n",
       "       [280.        , 200.        ],\n",
       "       [280.        , 260.        ],\n",
       "       [240.        , 300.        ],\n",
       "       [200.        , 260.        ],\n",
       "       [200.        , 200.        ],\n",
       "       [247.05882353, 200.        ],\n",
       "       [247.05882353, 235.29411765],\n",
       "       [223.52941176, 258.82352941],\n",
       "       [200.        , 235.29411765]])"
      ]
     },
     "execution_count": 26,
     "metadata": {},
     "output_type": "execute_result"
    }
   ],
   "source": [
    "np.array(a).T"
   ]
  },
  {
   "cell_type": "code",
   "execution_count": 1,
   "metadata": {},
   "outputs": [],
   "source": [
    "a = [1,2,3,4,5,6,7]"
   ]
  },
  {
   "cell_type": "code",
   "execution_count": 2,
   "metadata": {},
   "outputs": [
    {
     "data": {
      "text/plain": [
       "[1, 2, 3]"
      ]
     },
     "execution_count": 2,
     "metadata": {},
     "output_type": "execute_result"
    }
   ],
   "source": [
    "a[:3]"
   ]
  },
  {
   "cell_type": "code",
   "execution_count": null,
   "metadata": {},
   "outputs": [],
   "source": []
  },
  {
   "cell_type": "code",
   "execution_count": null,
   "metadata": {},
   "outputs": [],
   "source": []
  },
  {
   "cell_type": "code",
   "execution_count": null,
   "metadata": {},
   "outputs": [],
   "source": []
  },
  {
   "cell_type": "code",
   "execution_count": 174,
   "metadata": {},
   "outputs": [
    {
     "name": "stderr",
     "output_type": "stream",
     "text": [
      "C:\\ProgramData\\Anaconda3\\lib\\site-packages\\ipykernel_launcher.py:9: FutureWarning: `rcond` parameter will change to the default of machine precision times ``max(M, N)`` where M and N are the input matrix dimensions.\n",
      "To use the future default and silence this warning we advise to pass `rcond=None`, to keep using the old, explicitly pass `rcond=-1`.\n",
      "  if __name__ == '__main__':\n"
     ]
    }
   ],
   "source": [
    "reconstructed_points = []\n",
    "for i in range(len(three_chosen_points)):\n",
    "    A_col_0 = img_coords_A[:,i][0]*CA.m_2_T-CA.m_0_T\n",
    "    A_col_1 = img_coords_A[:,i][1]*CA.m_2_T-CA.m_1_T\n",
    "    A_col_2 = img_coords_B[:,i][0]*CB.m_2_T-CB.m_0_T\n",
    "    A_col_3 = img_coords_B[:,i][1]*CB.m_2_T-CB.m_1_T\n",
    "    A = np.stack((A_col_0,A_col_1,A_col_2,A_col_3),axis=0)\n",
    "    b = A[:, -1].copy()\n",
    "    x = x = np.linalg.lstsq(A[:, :-1], -b)[0]\n",
    "    x = np.r_[x,1]\n",
    "    reconstructed_points.append(x)\n",
    "\n",
    "reprojected_pts_4by1 = np.array(reconstructed_points).T"
   ]
  },
  {
   "cell_type": "code",
   "execution_count": 176,
   "metadata": {},
   "outputs": [
    {
     "ename": "TypeError",
     "evalue": "only size-1 arrays can be converted to Python scalars",
     "output_type": "error",
     "traceback": [
      "\u001b[1;31m---------------------------------------------------------------------------\u001b[0m",
      "\u001b[1;31mTypeError\u001b[0m                                 Traceback (most recent call last)",
      "\u001b[1;32m<ipython-input-176-d181822a3ec7>\u001b[0m in \u001b[0;36m<module>\u001b[1;34m\u001b[0m\n\u001b[1;32m----> 1\u001b[1;33m \u001b[0mprint\u001b[0m\u001b[1;33m(\u001b[0m\u001b[0mfloat\u001b[0m\u001b[1;33m(\u001b[0m\u001b[0mthree_chosen_pts_4by1\u001b[0m\u001b[1;33m)\u001b[0m\u001b[1;33m)\u001b[0m\u001b[1;33m\u001b[0m\u001b[1;33m\u001b[0m\u001b[0m\n\u001b[0m\u001b[0;32m      2\u001b[0m \u001b[0mprint\u001b[0m\u001b[1;33m(\u001b[0m\u001b[0mreprojected_pts_4by1\u001b[0m\u001b[1;33m)\u001b[0m\u001b[1;33m\u001b[0m\u001b[1;33m\u001b[0m\u001b[0m\n",
      "\u001b[1;31mTypeError\u001b[0m: only size-1 arrays can be converted to Python scalars"
     ]
    }
   ],
   "source": [
    "print(three_chosen_pts_4by1)\n",
    "print(reprojected_pts_4by1)"
   ]
  },
  {
   "cell_type": "code",
   "execution_count": 191,
   "metadata": {},
   "outputs": [],
   "source": [
    "\n",
    "img_reproj_A = np.divide(CA.cam_mat.dot(reprojected_pts_4by1), CA.cam_mat.dot(reprojected_pts_4by1)[2])[:-1]\n",
    "img_reproj_B = np.divide(CB.cam_mat.dot(reprojected_pts_4by1), CB.cam_mat.dot(reprojected_pts_4by1)[2])[:-1]\n",
    "\n",
    "error_A = img_reproj_A - img_coords_A\n",
    "error_B = img_reproj_B - img_coords_B\n",
    "\n",
    "sq_sum_A = sum([error_A[:,i][0]**2+error_A[:,i][1]**2 for i in range(3)])\n",
    "sq_sum_B = sum([error_B[:,i][0]**2+error_B[:,i][1]**2 for i in range(3)])"
   ]
  },
  {
   "cell_type": "code",
   "execution_count": 192,
   "metadata": {},
   "outputs": [
    {
     "data": {
      "text/plain": [
       "3.069615554396001e-26"
      ]
     },
     "execution_count": 192,
     "metadata": {},
     "output_type": "execute_result"
    }
   ],
   "source": [
    "sq_sum_A"
   ]
  },
  {
   "cell_type": "code",
   "execution_count": 193,
   "metadata": {},
   "outputs": [
    {
     "data": {
      "text/plain": [
       "7.270142102516845e-27"
      ]
     },
     "execution_count": 193,
     "metadata": {},
     "output_type": "execute_result"
    }
   ],
   "source": [
    "sq_sum_B"
   ]
  },
  {
   "cell_type": "code",
   "execution_count": 190,
   "metadata": {},
   "outputs": [
    {
     "name": "stdout",
     "output_type": "stream",
     "text": [
      "[-2.84217094e-14  2.84217094e-14 -1.13686838e-13]\n",
      "[-5.68434189e-14 -1.13686838e-13  0.00000000e+00]\n"
     ]
    }
   ],
   "source": [
    "for n in error_A[:,]:\n",
    "    print(n)"
   ]
  },
  {
   "cell_type": "code",
   "execution_count": 188,
   "metadata": {},
   "outputs": [
    {
     "data": {
      "text/plain": [
       "array([8.07793567e-28, 3.23117427e-27])"
      ]
     },
     "execution_count": 188,
     "metadata": {},
     "output_type": "execute_result"
    }
   ],
   "source": []
  },
  {
   "cell_type": "code",
   "execution_count": null,
   "metadata": {},
   "outputs": [],
   "source": []
  }
 ],
 "metadata": {
  "kernelspec": {
   "display_name": "Python 3",
   "language": "python",
   "name": "python3"
  },
  "language_info": {
   "codemirror_mode": {
    "name": "ipython",
    "version": 3
   },
   "file_extension": ".py",
   "mimetype": "text/x-python",
   "name": "python",
   "nbconvert_exporter": "python",
   "pygments_lexer": "ipython3",
   "version": "3.7.4"
  }
 },
 "nbformat": 4,
 "nbformat_minor": 2
}
