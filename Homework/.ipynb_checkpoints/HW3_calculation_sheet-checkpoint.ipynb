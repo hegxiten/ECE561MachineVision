{
 "cells": [
  {
   "cell_type": "code",
   "execution_count": 4,
   "metadata": {},
   "outputs": [],
   "source": [
    "import numpy as np"
   ]
  },
  {
   "cell_type": "code",
   "execution_count": 5,
   "metadata": {},
   "outputs": [
    {
     "data": {
      "text/plain": [
       "1"
      ]
     },
     "execution_count": 5,
     "metadata": {},
     "output_type": "execute_result"
    }
   ],
   "source": [
    "np.long(1)"
   ]
  },
  {
   "cell_type": "code",
   "execution_count": 60,
   "metadata": {},
   "outputs": [
    {
     "name": "stdout",
     "output_type": "stream",
     "text": [
      "1T0 is: \n",
      "[[ 0.70710678  0.70710678  0.         -0.        ]\n",
      " [-0.70710678  0.70710678  0.         -0.        ]\n",
      " [ 0.          0.          1.         -0.        ]\n",
      " [ 0.          0.          0.          1.        ]]\n",
      "2T1 is: \n",
      "[[  1.   0.   0. -10.]\n",
      " [  0.   1.   0.  -0.]\n",
      " [  0.   0.   1.  -0.]\n",
      " [  0.   0.   0.   1.]]\n",
      "3T2 is: \n",
      "[[  1.   0.   0. -10.]\n",
      " [  0.   1.   0.  -0.]\n",
      " [  0.   0.   1.  -0.]\n",
      " [  0.   0.   0.   1.]]\n",
      "3T0 is: \n",
      "[[  0.70710678   0.70710678   0.         -20.        ]\n",
      " [ -0.70710678   0.70710678   0.           0.        ]\n",
      " [  0.           0.           1.           0.        ]\n",
      " [  0.           0.           0.           1.        ]]\n",
      "Wrist location w.r.t reference frame is: [x, y, z]\n",
      "[16.26345597 16.26345597  0.        ]\n"
     ]
    }
   ],
   "source": [
    "import numpy as np\n",
    "# print(\"Please Input the Degree for θ1 (in DEG):\")\n",
    "# theta_1 = np.float(input())\n",
    "# print(\"Please Input the Degree for θ2 (in DEG):\")\n",
    "# theta_2 = np.float(input())\n",
    "# print(\"Please Input the Degree for θ3 (in DEG):\")\n",
    "# theta_3 = np.float(input())\n",
    "\n",
    "theta_1, theta_2, theta_3 = 45,0,0\n",
    "\n",
    "radian_1, radian_2, radian_3 = \\\n",
    "    theta_1 / 180 * np.pi, theta_2 / 180 * np.pi, theta_2 / 180 * np.pi\n",
    "\n",
    "L1, L2, L3 = 10, 10, 3\n",
    "radian_1, radian_2, radian_3 = \\\n",
    "    theta_1 / 180 * np.pi, theta_2 / 180 * np.pi, theta_3 / 180 * np.pi\n",
    "\n",
    "L1, L2, L3 = 10, 10, 3\n",
    "\n",
    "joint_C10 = np.array([[0,0,0]])\n",
    "joint_C21 = np.array([[L1,0,0]])\n",
    "joint_C32 = np.array([[L2,0,0]])\n",
    "joint_C43 = np.array([[L3,0,0]])\n",
    "\n",
    "def rotation_matrix_C(radian_x, radian_y, radian_z):\n",
    "    Rcx = np.array([[1, 0, 0], \n",
    "                    [0, np.cos(radian_x), -np.sin(radian_x)], \n",
    "                    [0, np.sin(radian_x), np.cos(radian_x)]])\n",
    "    Rcy = np.array([[np.cos(radian_y), 0, np.sin(radian_y)], \n",
    "                    [0, 1, 0], \n",
    "                    [-np.sin(radian_y), 0, np.cos(radian_y)]])\n",
    "    Rcz = np.array([[np.cos(radian_z), -np.sin(radian_z), 0],\n",
    "                    [np.sin(radian_z), np.cos(radian_z), 0], \n",
    "                    [0, 0, 1]])\n",
    "    return np.matmul(Rcz, np.matmul(Rcy, Rcx))\n",
    "\n",
    "def transformation_affine(Rc, t):    \n",
    "    M_ext = np.append(Rc.T, (-1)*np.dot(Rc.T, t.T), axis=1)\n",
    "    return np.append(M_ext, np.array([[0,0,0,1]]), axis=0)\n",
    "\n",
    "T_10 = transformation_affine(rotation_matrix_C(0,0,radian_1), joint_C10)\n",
    "T_21 = transformation_affine(rotation_matrix_C(0,0,radian_2), joint_C21)\n",
    "T_32 = transformation_affine(rotation_matrix_C(0,0,radian_3), joint_C32)\n",
    "T_30 = T_32.dot(T_21.dot(T_10))\n",
    "\n",
    "P_ref = np.linalg.inv(T_30).dot(np.append(joint_C43, np.array([1]).T))\n",
    "P_ref = np.divide(P_ref, P_ref[-1])\n",
    "print(\"1T0 is: \")\n",
    "print(T_10)\n",
    "print(\"2T1 is: \")\n",
    "print(T_21)\n",
    "print(\"3T2 is: \")\n",
    "print(T_32)\n",
    "print(\"3T0 is: \")\n",
    "print(T_30)\n",
    "print(\"Wrist location w.r.t reference frame is: [x, y, z]\")\n",
    "print(P_ref[:-1])"
   ]
  },
  {
   "cell_type": "code",
   "execution_count": 52,
   "metadata": {},
   "outputs": [
    {
     "data": {
      "text/plain": [
       "array([3, 0, 0, 1])"
      ]
     },
     "execution_count": 52,
     "metadata": {},
     "output_type": "execute_result"
    }
   ],
   "source": [
    "np.append(joint_C43, np.array([1]))"
   ]
  },
  {
   "cell_type": "code",
   "execution_count": 5,
   "metadata": {},
   "outputs": [],
   "source": [
    "Rc_0 = rotation_matrix_C(0, 0, 0)\n",
    "C_0 = np.array([[0, 0, -10]])\n",
    "M_ext_0 = np.append(Rc_0.T, -np.dot(Rc_0.T, C_0.T), axis=1)"
   ]
  },
  {
   "cell_type": "code",
   "execution_count": 6,
   "metadata": {},
   "outputs": [],
   "source": [
    "Rc_1 = rotation_matrix_C(0, 3*np.pi/4, 0)\n",
    "C_1 = np.array([[-np.sqrt(10), 0, 7+np.sqrt(10)]])\n",
    "M_ext_1 = np.append(Rc_1.T, -np.dot(Rc_1.T, C_1.T), axis=1)"
   ]
  },
  {
   "cell_type": "code",
   "execution_count": 7,
   "metadata": {},
   "outputs": [],
   "source": [
    "Rc_2 = rotation_matrix_C(0, 5*np.pi/4, 0)\n",
    "C_2 = np.array([[8+np.sqrt(10), np.sqrt(10), 7+np.sqrt(10)]])\n",
    "M_ext_2 = np.append(Rc_2.T, -np.dot(Rc_2.T, C_2.T), axis=1)"
   ]
  },
  {
   "cell_type": "code",
   "execution_count": 8,
   "metadata": {},
   "outputs": [],
   "source": [
    "Rc_3 = rotation_matrix_C(-np.pi/2, 0, 0)\n",
    "C_3 = np.array([[0, -10,  0]])\n",
    "M_ext_3 = np.append(Rc_3.T, -np.dot(Rc_3.T, C_3.T), axis=1)"
   ]
  },
  {
   "cell_type": "code",
   "execution_count": 9,
   "metadata": {},
   "outputs": [],
   "source": [
    "Rc_4 = rotation_matrix_C(np.pi/2, 0, 0)\n",
    "C_4 = np.array([[0, 15,  0]])\n",
    "M_ext_4 = np.append(Rc_4.T, -np.dot(Rc_4.T, C_4.T), axis=1)"
   ]
  },
  {
   "cell_type": "code",
   "execution_count": 10,
   "metadata": {},
   "outputs": [],
   "source": [
    "# augmented P matrix with extra \"1\" as the fourth component:\n",
    "P = np.append(house_coords, [np.ones((house_coords.shape[1]),  dtype=house_coords.dtype)], 0)"
   ]
  },
  {
   "cell_type": "code",
   "execution_count": 11,
   "metadata": {},
   "outputs": [],
   "source": [
    "proj_cords = [np.matmul(M_int, np.matmul(x, P)) for x in [M_ext_0, M_ext_1, M_ext_2, M_ext_3, M_ext_4]]"
   ]
  },
  {
   "cell_type": "code",
   "execution_count": 12,
   "metadata": {},
   "outputs": [],
   "source": [
    "pixel_cords = [np.divide(x, x[2])[:-1] for x in proj_cords]"
   ]
  },
  {
   "cell_type": "code",
   "execution_count": null,
   "metadata": {},
   "outputs": [
    {
     "name": "stderr",
     "output_type": "stream",
     "text": [
      "C:\\Users\\wangz\\AppData\\Local\\Continuum\\anaconda3\\lib\\site-packages\\ipykernel_launcher.py:20: UserWarning: Matplotlib is currently using module://ipykernel.pylab.backend_inline, which is a non-GUI backend, so cannot show the figure.\n"
     ]
    }
   ],
   "source": [
    "import matplotlib.pyplot as plt\n",
    "from matplotlib.lines import Line2D\n",
    "for view in pixel_cords:\n",
    "    projected_dict = {}\n",
    "    for n in range(view.shape[1]):\n",
    "        projected_dict[edges[n][0]] = view.T[n]\n",
    "    # using Line2D to plot the projected \"house\"\n",
    "    fig = plt.figure()\n",
    "    ax = fig.add_subplot(111)\n",
    "    projected_lines = []\n",
    "    for v in edge_dict.keys():\n",
    "        for p in edge_dict[v]:\n",
    "            projected_lines.append(\n",
    "                Line2D([projected_dict[v][0], projected_dict[p][0]],\n",
    "                       [projected_dict[v][1], projected_dict[p][1]]))\n",
    "            ax.add_line(projected_lines[-1])\n",
    "    ax.axis([100, 400, 100, 400])\n",
    "    plt.draw()\n",
    "\n",
    "    plt.waitforbuttonpress(0)\n",
    "    plt.close(fig)"
   ]
  },
  {
   "cell_type": "code",
   "execution_count": 62,
   "metadata": {},
   "outputs": [
    {
     "ename": "TypeError",
     "evalue": "list indices must be integers or slices, not tuple",
     "output_type": "error",
     "traceback": [
      "\u001b[1;31m---------------------------------------------------------------------------\u001b[0m",
      "\u001b[1;31mTypeError\u001b[0m                                 Traceback (most recent call last)",
      "\u001b[1;32m<ipython-input-62-f3e5fcdbeb1c>\u001b[0m in \u001b[0;36m<module>\u001b[1;34m\u001b[0m\n\u001b[0;32m      1\u001b[0m a=np.array([     [-0.25881905,  0.96592583,  0.,         -6.65779853]\n\u001b[1;32m----> 2\u001b[1;33m                  \u001b[1;33m[\u001b[0m\u001b[1;33m-\u001b[0m\u001b[1;36m0.96592583\u001b[0m\u001b[1;33m,\u001b[0m \u001b[1;33m-\u001b[0m\u001b[1;36m0.25881905\u001b[0m\u001b[1;33m,\u001b[0m  \u001b[1;36m0.\u001b[0m\u001b[1;33m,\u001b[0m          \u001b[1;36m8.46298152\u001b[0m\u001b[1;33m]\u001b[0m\u001b[1;33m\u001b[0m\u001b[1;33m\u001b[0m\u001b[0m\n\u001b[0m\u001b[0;32m      3\u001b[0m                  \u001b[1;33m[\u001b[0m \u001b[1;36m0.\u001b[0m        \u001b[1;33m,\u001b[0m  \u001b[1;36m0.\u001b[0m        \u001b[1;33m,\u001b[0m  \u001b[1;36m1.\u001b[0m\u001b[1;33m,\u001b[0m          \u001b[1;36m0.\u001b[0m        \u001b[1;33m]\u001b[0m\u001b[1;33m\u001b[0m\u001b[1;33m\u001b[0m\u001b[0m\n\u001b[0;32m      4\u001b[0m                  [ 0.        ,  0.        ,  0.,          1.        ]])\n",
      "\u001b[1;31mTypeError\u001b[0m: list indices must be integers or slices, not tuple"
     ]
    }
   ],
   "source": [
    "a=np.array([     [-0.25881905,  0.96592583,  0.,         -6.65779853]\n",
    "                 [-0.96592583, -0.25881905,  0.,          8.46298152]\n",
    "                 [ 0.        ,  0.        ,  1.,          0.        ]\n",
    "                 [ 0.        ,  0.        ,  0.,          1.        ]])"
   ]
  },
  {
   "cell_type": "code",
   "execution_count": null,
   "metadata": {},
   "outputs": [],
   "source": []
  },
  {
   "cell_type": "code",
   "execution_count": null,
   "metadata": {},
   "outputs": [],
   "source": []
  },
  {
   "cell_type": "code",
   "execution_count": null,
   "metadata": {},
   "outputs": [],
   "source": []
  }
 ],
 "metadata": {
  "kernelspec": {
   "display_name": "Python 3",
   "language": "python",
   "name": "python3"
  },
  "language_info": {
   "codemirror_mode": {
    "name": "ipython",
    "version": 3
   },
   "file_extension": ".py",
   "mimetype": "text/x-python",
   "name": "python",
   "nbconvert_exporter": "python",
   "pygments_lexer": "ipython3",
   "version": "3.7.3"
  }
 },
 "nbformat": 4,
 "nbformat_minor": 2
}
