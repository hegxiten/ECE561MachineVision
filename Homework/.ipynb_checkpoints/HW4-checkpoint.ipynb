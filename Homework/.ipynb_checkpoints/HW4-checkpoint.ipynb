{
 "cells": [
  {
   "cell_type": "code",
   "execution_count": 147,
   "metadata": {},
   "outputs": [],
   "source": [
    "import numpy as np\n",
    "\n",
    "def rotation_matrix_C(radian_x, radian_y, radian_z):\n",
    "    Rcx = np.array([[1,0,0],[0,np.cos(radian_x),-np.sin(radian_x)],[0, np.sin(radian_x), np.cos(radian_x)]])\n",
    "    Rcy = np.array([[np.cos(radian_y),0, np.sin(radian_y)],[0,1,0],[-np.sin(radian_y),0,np.cos(radian_y)]])\n",
    "    Rcz = np.array([[np.cos(radian_z),-np.sin(radian_z),0],[np.sin(radian_z),np.cos(radian_z),0],[0,0,1]])\n",
    "    return np.matmul(Rcz, np.matmul(Rcy, Rcx))\n",
    "\n",
    "# describe a simple house in a selected world coordinate system:\n",
    "edges = [\n",
    "    ('a', ['A', 'b', 'e']),\n",
    "    ('b', ['a', 'B', 'c']),\n",
    "    ('c', ['d', 'C', 'b']),\n",
    "    ('d', ['e', 'D', 'c']),\n",
    "    ('e', ['a', 'd', 'E']),\n",
    "    ('A', ['a', 'B', 'E']),\n",
    "    ('B', ['A', 'b', 'C']),\n",
    "    ('C', ['D', 'c', 'B']),\n",
    "    ('D', ['E', 'd', 'C']),\n",
    "    ('E', ['A', 'D', 'e']),\n",
    "]\n",
    "# corresponding coordinates of vertices in the simple house\n",
    "coords = [\n",
    "    ('a', np.array([0,  0,  0])),\n",
    "    ('b', np.array([8,  0,  0])),\n",
    "    ('c', np.array([8,  6,  0])),\n",
    "    ('d', np.array([4,  10, 0])),\n",
    "    ('e', np.array([0,  6,  0])),\n",
    "    ('A', np.array([0,  0,  7])),\n",
    "    ('B', np.array([8,  0,  7])),\n",
    "    ('C', np.array([8,  6,  7])),\n",
    "    ('D', np.array([4,  10, 7])),\n",
    "    ('E', np.array([0,  6,  7])),\n",
    "]\n",
    "\n",
    "edge_dict, coords_dict = {}, {}\n",
    "for (node, connecting_nodes) in edges:\n",
    "    edge_dict[node] = connecting_nodes\n",
    "for (node, node_coords) in coords:\n",
    "    coords_dict[node] = node_coords\n",
    "\n",
    "house_coords = np.column_stack([n[1] for n in coords])\n",
    "\n",
    "M_int = np.array([[100,    0,  200],\n",
    "                  [   0, 100,  200],\n",
    "                  [   0,    0,    1]])"
   ]
  },
  {
   "cell_type": "code",
   "execution_count": 148,
   "metadata": {},
   "outputs": [],
   "source": [
    "three_chosen_points = np.column_stack([house_coords[:,i] for i in [3,5,7]])\n",
    "Rcs = [rotation_matrix_C(0, 3*np.pi/4, 0), rotation_matrix_C(-np.pi/2, 0, 0)]\n",
    "Centers = [np.array([[-np.sqrt(10), 0, 7+np.sqrt(10)]]), np.array([[0, -10,  0]])]\n",
    "\n"
   ]
  },
  {
   "cell_type": "code",
   "execution_count": 149,
   "metadata": {},
   "outputs": [],
   "source": [
    "class Camera(object):\n",
    "    \n",
    "    def __init__(self, *args, **kwargs):\n",
    "        self.Rc = kwargs.get(\"Rc\")\n",
    "        self.C = kwargs.get(\"C\")\n",
    "        self.M_int = kwargs.get(\"M_int\")\n",
    "        \n",
    "    @property\n",
    "    def M_ext(self): return np.append(self.Rc.T, -np.dot(self.Rc.T, self.C.T), axis=1)\n",
    "            \n",
    "    @property\n",
    "    def cam_mat(self): return np.matmul(self.M_int, self.M_ext)\n",
    "    \n",
    "    @property\n",
    "    def m_0_T(self): return self.cam_mat[0]\n",
    "\n",
    "    @property\n",
    "    def m_1_T(self): return self.cam_mat[1]\n",
    "\n",
    "    @property\n",
    "    def m_2_T(self): return self.cam_mat[2]\n",
    "\n"
   ]
  },
  {
   "cell_type": "code",
   "execution_count": 150,
   "metadata": {},
   "outputs": [],
   "source": [
    "three_chosen_pts_4by1 = np.append(three_chosen_points, [np.ones((three_chosen_points.shape[1]),  dtype=house_coords.dtype)], 0)\n",
    "CA = Camera(Rc=Rcs[0],C=Centers[0], M_int=M_int)\n",
    "CB = Camera(Rc=Rcs[1],C=Centers[1], M_int=M_int)"
   ]
  },
  {
   "cell_type": "code",
   "execution_count": 151,
   "metadata": {},
   "outputs": [],
   "source": [
    "img_coords_A = np.divide(CA.cam_mat.dot(three_chosen_pts_4by1), CA.cam_mat.dot(three_chosen_pts_4by1)[2])[:-1]\n",
    "img_coords_B = np.divide(CB.cam_mat.dot(three_chosen_pts_4by1), CB.cam_mat.dot(three_chosen_pts_4by1)[2])[:-1]"
   ]
  },
  {
   "cell_type": "code",
   "execution_count": 174,
   "metadata": {},
   "outputs": [
    {
     "name": "stderr",
     "output_type": "stream",
     "text": [
      "C:\\ProgramData\\Anaconda3\\lib\\site-packages\\ipykernel_launcher.py:9: FutureWarning: `rcond` parameter will change to the default of machine precision times ``max(M, N)`` where M and N are the input matrix dimensions.\n",
      "To use the future default and silence this warning we advise to pass `rcond=None`, to keep using the old, explicitly pass `rcond=-1`.\n",
      "  if __name__ == '__main__':\n"
     ]
    }
   ],
   "source": [
    "reconstructed_points = []\n",
    "for i in range(len(three_chosen_points)):\n",
    "    A_col_0 = img_coords_A[:,i][0]*CA.m_2_T-CA.m_0_T\n",
    "    A_col_1 = img_coords_A[:,i][1]*CA.m_2_T-CA.m_1_T\n",
    "    A_col_2 = img_coords_B[:,i][0]*CB.m_2_T-CB.m_0_T\n",
    "    A_col_3 = img_coords_B[:,i][1]*CB.m_2_T-CB.m_1_T\n",
    "    A = np.stack((A_col_0,A_col_1,A_col_2,A_col_3),axis=0)\n",
    "    b = A[:, -1].copy()\n",
    "    x = x = np.linalg.lstsq(A[:, :-1], -b)[0]\n",
    "    x = np.r_[x,1]\n",
    "    reconstructed_points.append(x)\n",
    "\n",
    "reprojected_pts_4by1 = np.array(reconstructed_points).T"
   ]
  },
  {
   "cell_type": "code",
   "execution_count": 176,
   "metadata": {},
   "outputs": [
    {
     "ename": "TypeError",
     "evalue": "only size-1 arrays can be converted to Python scalars",
     "output_type": "error",
     "traceback": [
      "\u001b[1;31m---------------------------------------------------------------------------\u001b[0m",
      "\u001b[1;31mTypeError\u001b[0m                                 Traceback (most recent call last)",
      "\u001b[1;32m<ipython-input-176-d181822a3ec7>\u001b[0m in \u001b[0;36m<module>\u001b[1;34m\u001b[0m\n\u001b[1;32m----> 1\u001b[1;33m \u001b[0mprint\u001b[0m\u001b[1;33m(\u001b[0m\u001b[0mfloat\u001b[0m\u001b[1;33m(\u001b[0m\u001b[0mthree_chosen_pts_4by1\u001b[0m\u001b[1;33m)\u001b[0m\u001b[1;33m)\u001b[0m\u001b[1;33m\u001b[0m\u001b[1;33m\u001b[0m\u001b[0m\n\u001b[0m\u001b[0;32m      2\u001b[0m \u001b[0mprint\u001b[0m\u001b[1;33m(\u001b[0m\u001b[0mreprojected_pts_4by1\u001b[0m\u001b[1;33m)\u001b[0m\u001b[1;33m\u001b[0m\u001b[1;33m\u001b[0m\u001b[0m\n",
      "\u001b[1;31mTypeError\u001b[0m: only size-1 arrays can be converted to Python scalars"
     ]
    }
   ],
   "source": [
    "print(three_chosen_pts_4by1)\n",
    "print(reprojected_pts_4by1)"
   ]
  },
  {
   "cell_type": "code",
   "execution_count": 181,
   "metadata": {},
   "outputs": [],
   "source": [
    "\n",
    "img_reproj_A = np.divide(CA.cam_mat.dot(reprojected_pts_4by1), CA.cam_mat.dot(reprojected_pts_4by1)[2])[:-1]\n",
    "img_reproj_B = np.divide(CB.cam_mat.dot(reprojected_pts_4by1), CB.cam_mat.dot(reprojected_pts_4by1)[2])[:-1]\n",
    "\n",
    "error_A = img_reproj_A - img_coords_A\n",
    "error_B = img_reproj_B - img_coords_B\n",
    "\n",
    "sq_sum_A = sum([error_A[:,i][0]**2+error_A[:,i][1]**2 for i in range(3)])\n",
    "sq_sum_B = sum([error_B[:,i][0]**2+error_B[:,i][1]**2 for i in range(3)])"
   ]
  },
  {
   "cell_type": "code",
   "execution_count": 182,
   "metadata": {},
   "outputs": [
    {
     "data": {
      "text/plain": [
       "[1.454028420503369e-26, 1.6155871338926322e-26]"
      ]
     },
     "execution_count": 182,
     "metadata": {},
     "output_type": "execute_result"
    }
   ],
   "source": [
    "sq_sum_A"
   ]
  },
  {
   "cell_type": "code",
   "execution_count": 183,
   "metadata": {},
   "outputs": [
    {
     "data": {
      "text/plain": [
       "[8.077935669463161e-28, 6.462348535570529e-27]"
      ]
     },
     "execution_count": 183,
     "metadata": {},
     "output_type": "execute_result"
    }
   ],
   "source": [
    "sq_sum_B"
   ]
  },
  {
   "cell_type": "code",
   "execution_count": 190,
   "metadata": {},
   "outputs": [
    {
     "name": "stdout",
     "output_type": "stream",
     "text": [
      "[-2.84217094e-14  2.84217094e-14 -1.13686838e-13]\n",
      "[-5.68434189e-14 -1.13686838e-13  0.00000000e+00]\n"
     ]
    }
   ],
   "source": [
    "for n in error_A[:,]:\n",
    "    print(n)"
   ]
  },
  {
   "cell_type": "code",
   "execution_count": 188,
   "metadata": {},
   "outputs": [
    {
     "data": {
      "text/plain": [
       "array([8.07793567e-28, 3.23117427e-27])"
      ]
     },
     "execution_count": 188,
     "metadata": {},
     "output_type": "execute_result"
    }
   ],
   "source": []
  },
  {
   "cell_type": "code",
   "execution_count": null,
   "metadata": {},
   "outputs": [],
   "source": []
  }
 ],
 "metadata": {
  "kernelspec": {
   "display_name": "Python 3",
   "language": "python",
   "name": "python3"
  },
  "language_info": {
   "codemirror_mode": {
    "name": "ipython",
    "version": 3
   },
   "file_extension": ".py",
   "mimetype": "text/x-python",
   "name": "python",
   "nbconvert_exporter": "python",
   "pygments_lexer": "ipython3",
   "version": "3.7.4"
  }
 },
 "nbformat": 4,
 "nbformat_minor": 2
}
