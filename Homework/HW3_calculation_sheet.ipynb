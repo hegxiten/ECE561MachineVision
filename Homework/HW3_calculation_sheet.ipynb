{
 "cells": [
  {
   "cell_type": "code",
   "execution_count": 1,
   "metadata": {},
   "outputs": [],
   "source": [
    "import numpy as np"
   ]
  },
  {
   "cell_type": "code",
   "execution_count": 2,
   "metadata": {},
   "outputs": [],
   "source": [
    "def rotation_matrix_C(radian_x, radian_y, radian_z):\n",
    "    Rcx = np.array([[1,0,0],[0,np.cos(radian_x),-np.sin(radian_x)],[0, np.sin(radian_x), np.cos(radian_x)]])\n",
    "    Rcy = np.array([[np.cos(radian_y),0, np.sin(radian_y)],[0,1,0],[-np.sin(radian_y),0,np.cos(radian_y)]])\n",
    "    Rcz = np.array([[np.cos(radian_z),-np.sin(radian_z),0],[np.sin(radian_z),np.cos(radian_z),0],[0,0,1]])\n",
    "    return np.matmul(Rcz, np.matmul(Rcy, Rcx))"
   ]
  },
  {
   "cell_type": "code",
   "execution_count": 3,
   "metadata": {},
   "outputs": [],
   "source": [
    "# describe a simple house in a selected world coordinate system:\n",
    "edges = [\n",
    "    ('a', ['A', 'b', 'e']),\n",
    "    ('b', ['a', 'B', 'c']),\n",
    "    ('c', ['d', 'C', 'b']),\n",
    "    ('d', ['e', 'D', 'c']),\n",
    "    ('e', ['a', 'd', 'E']),\n",
    "    ('A', ['a', 'B', 'E']),\n",
    "    ('B', ['A', 'b', 'C']),\n",
    "    ('C', ['D', 'c', 'B']),\n",
    "    ('D', ['E', 'd', 'C']),\n",
    "    ('E', ['A', 'D', 'e']),\n",
    "]\n",
    "# corresponding coordinates of vertices in the simple house\n",
    "coords = [\n",
    "    ('a', np.array([0,  0,  0])),\n",
    "    ('b', np.array([8,  0,  0])),\n",
    "    ('c', np.array([8,  6,  0])),\n",
    "    ('d', np.array([4,  10, 0])),\n",
    "    ('e', np.array([0,  6,  0])),\n",
    "    ('A', np.array([0,  0,  7])),\n",
    "    ('B', np.array([8,  0,  7])),\n",
    "    ('C', np.array([8,  6,  7])),\n",
    "    ('D', np.array([4,  10, 7])),\n",
    "    ('E', np.array([0,  6,  7])),\n",
    "]\n",
    "\n",
    "edge_dict, coords_dict = {}, {}\n",
    "for (node, connecting_nodes) in edges:\n",
    "    edge_dict[node] = connecting_nodes\n",
    "for (node, node_coords) in coords:\n",
    "    coords_dict[node] = node_coords\n",
    "\n",
    "house_coords = np.column_stack([n[1] for n in coords])"
   ]
  },
  {
   "cell_type": "code",
   "execution_count": 4,
   "metadata": {},
   "outputs": [],
   "source": [
    "M_int = np.array([[100,    0,  200],\n",
    "                  [   0, 100,  200],\n",
    "                  [   0,    0,    1]])"
   ]
  },
  {
   "cell_type": "code",
   "execution_count": 5,
   "metadata": {},
   "outputs": [],
   "source": [
    "Rc_0 = rotation_matrix_C(0, 0, 0)\n",
    "C_0 = np.array([[0, 0, -10]])\n",
    "M_ext_0 = np.append(Rc_0.T, -np.dot(Rc_0.T, C_0.T), axis=1)"
   ]
  },
  {
   "cell_type": "code",
   "execution_count": 6,
   "metadata": {},
   "outputs": [],
   "source": [
    "Rc_1 = rotation_matrix_C(0, 3*np.pi/4, 0)\n",
    "C_1 = np.array([[-np.sqrt(10), 0, 7+np.sqrt(10)]])\n",
    "M_ext_1 = np.append(Rc_1.T, -np.dot(Rc_1.T, C_1.T), axis=1)"
   ]
  },
  {
   "cell_type": "code",
   "execution_count": 7,
   "metadata": {},
   "outputs": [],
   "source": [
    "Rc_2 = rotation_matrix_C(0, 5*np.pi/4, 0)\n",
    "C_2 = np.array([[8+np.sqrt(10), np.sqrt(10), 7+np.sqrt(10)]])\n",
    "M_ext_2 = np.append(Rc_2.T, -np.dot(Rc_2.T, C_2.T), axis=1)"
   ]
  },
  {
   "cell_type": "code",
   "execution_count": 8,
   "metadata": {},
   "outputs": [],
   "source": [
    "Rc_3 = rotation_matrix_C(-np.pi/2, 0, 0)\n",
    "C_3 = np.array([[0, -10,  0]])\n",
    "M_ext_3 = np.append(Rc_3.T, -np.dot(Rc_3.T, C_3.T), axis=1)"
   ]
  },
  {
   "cell_type": "code",
   "execution_count": 9,
   "metadata": {},
   "outputs": [],
   "source": [
    "Rc_4 = rotation_matrix_C(np.pi/2, 0, 0)\n",
    "C_4 = np.array([[0, 15,  0]])\n",
    "M_ext_4 = np.append(Rc_4.T, -np.dot(Rc_4.T, C_4.T), axis=1)"
   ]
  },
  {
   "cell_type": "code",
   "execution_count": 10,
   "metadata": {},
   "outputs": [],
   "source": [
    "# augmented P matrix with extra \"1\" as the fourth component:\n",
    "P = np.append(house_coords, [np.ones((house_coords.shape[1]),  dtype=house_coords.dtype)], 0)"
   ]
  },
  {
   "cell_type": "code",
   "execution_count": 11,
   "metadata": {},
   "outputs": [],
   "source": [
    "proj_cords = [np.matmul(M_int, np.matmul(x, P)) for x in [M_ext_0, M_ext_1, M_ext_2, M_ext_3, M_ext_4]]"
   ]
  },
  {
   "cell_type": "code",
   "execution_count": 12,
   "metadata": {},
   "outputs": [],
   "source": [
    "pixel_cords = [np.divide(x, x[2])[:-1] for x in proj_cords]"
   ]
  },
  {
   "cell_type": "code",
   "execution_count": null,
   "metadata": {},
   "outputs": [
    {
     "name": "stderr",
     "output_type": "stream",
     "text": [
      "C:\\Users\\wangz\\AppData\\Local\\Continuum\\anaconda3\\lib\\site-packages\\ipykernel_launcher.py:20: UserWarning: Matplotlib is currently using module://ipykernel.pylab.backend_inline, which is a non-GUI backend, so cannot show the figure.\n"
     ]
    }
   ],
   "source": [
    "import matplotlib.pyplot as plt\n",
    "from matplotlib.lines import Line2D\n",
    "for view in pixel_cords:\n",
    "    projected_dict = {}\n",
    "    for n in range(view.shape[1]):\n",
    "        projected_dict[edges[n][0]] = view.T[n]\n",
    "    # using Line2D to plot the projected \"house\"\n",
    "    fig = plt.figure()\n",
    "    ax = fig.add_subplot(111)\n",
    "    projected_lines = []\n",
    "    for v in edge_dict.keys():\n",
    "        for p in edge_dict[v]:\n",
    "            projected_lines.append(\n",
    "                Line2D([projected_dict[v][0], projected_dict[p][0]],\n",
    "                       [projected_dict[v][1], projected_dict[p][1]]))\n",
    "            ax.add_line(projected_lines[-1])\n",
    "    ax.axis([100, 400, 100, 400])\n",
    "    plt.draw()\n",
    "\n",
    "    plt.waitforbuttonpress(0)\n",
    "    plt.close(fig)"
   ]
  },
  {
   "cell_type": "code",
   "execution_count": null,
   "metadata": {},
   "outputs": [],
   "source": []
  },
  {
   "cell_type": "code",
   "execution_count": null,
   "metadata": {},
   "outputs": [],
   "source": []
  },
  {
   "cell_type": "code",
   "execution_count": null,
   "metadata": {},
   "outputs": [],
   "source": []
  },
  {
   "cell_type": "code",
   "execution_count": null,
   "metadata": {},
   "outputs": [],
   "source": []
  }
 ],
 "metadata": {
  "kernelspec": {
   "display_name": "Python 3",
   "language": "python",
   "name": "python3"
  },
  "language_info": {
   "codemirror_mode": {
    "name": "ipython",
    "version": 3
   },
   "file_extension": ".py",
   "mimetype": "text/x-python",
   "name": "python",
   "nbconvert_exporter": "python",
   "pygments_lexer": "ipython3",
   "version": "3.7.3"
  }
 },
 "nbformat": 4,
 "nbformat_minor": 2
}
