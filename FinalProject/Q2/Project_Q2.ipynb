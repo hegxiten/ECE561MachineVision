{
 "cells": [
  {
   "cell_type": "code",
   "execution_count": 52,
   "metadata": {
    "colab": {
     "base_uri": "https://localhost:8080/",
     "height": 1000
    },
    "colab_type": "code",
    "id": "u2P8rerJEvB-",
    "outputId": "5a25afd3-9c44-4d0e-f860-b5b3e7cb5a47"
   },
   "outputs": [
    {
     "name": "stderr",
     "output_type": "stream",
     "text": [
      "Using cache found in C:\\Users\\wangz/.cache\\torch\\hub\\pytorch_vision_master\n"
     ]
    },
    {
     "name": "stdout",
     "output_type": "stream",
     "text": [
      "Training Data Size: 2413\n",
      "Testing Data Size: 805\n"
     ]
    }
   ],
   "source": [
    "# Use the testing mode for evaluation (the whole ready-to-go model), since we \n",
    "# are not contributing to the model itself\n",
    "# If user would like to use this acceleration, select the menu option \n",
    "# \"Runtime\" -> \"Change runtime type\", select \"Hardware Accelerator\" -> \"GPU\" and\n",
    "# click \"SAVE\"\n",
    "import matplotlib\n",
    "import matplotlib.pyplot as plt\n",
    "import matplotlib.image as mpimg\n",
    "from torchvision.models.resnet import ResNet, BasicBlock\n",
    "from torchvision.datasets import MNIST\n",
    "from torchvision import transforms\n",
    "\n",
    "from tqdm.autonotebook import tqdm\n",
    "from sklearn.metrics import confusion_matrix, precision_score, recall_score, f1_score, accuracy_score\n",
    "import inspect\n",
    "import time\n",
    "from torch import nn, optim\n",
    "import torch, os\n",
    "from torch.utils.data import DataLoader, Dataset\n",
    "from torchvision.transforms import Compose, ToTensor, Normalize, Resize, CenterCrop, Grayscale\n",
    "from torch.utils.data import DataLoader\n",
    "from PIL import Image\n",
    "import numpy as np\n",
    "\n",
    "from random import sample\n",
    "\n",
    "# selected ResNet34 as the model\n",
    "model = torch.hub.load('pytorch/vision', 'resnet18', pretrained=True)\n",
    "classes = [\"Apple Golden 1\", \"Apple Golden 2\", \"Apple Golden 3\", \"Apple Granny Smith\", \"Apple Pink Lady\"]\n",
    "\n",
    "def gettrainfiles(): \n",
    "    _files, classidx, _filefullpath = [], [], []\n",
    "    for cls in range(len(classes)):\n",
    "        classidx += [cls] * len(os.listdir(traindir + '\\\\' + classes[cls]))\n",
    "        _files += os.listdir(traindir + '\\\\' + classes[cls])\n",
    "        for f in os.listdir(traindir + '\\\\' + classes[cls]):\n",
    "            _filefullpath.append(traindir + '\\\\' + classes[cls] + '\\\\' + f)\n",
    "    return [_files, classidx, _filefullpath]\n",
    "def gettestfiles(): \n",
    "    _files, classidx, _filefullpath = [], [], []\n",
    "    for cls in range(len(classes)):\n",
    "        classidx += [cls] * len(os.listdir(testdir + '\\\\' + classes[cls]))\n",
    "        _files += os.listdir(testdir + '\\\\' + classes[cls])\n",
    "        for f in os.listdir(testdir + '\\\\' + classes[cls]):\n",
    "            _filefullpath.append(testdir + '\\\\' + classes[cls] + '\\\\' + f)\n",
    "    return [_files, classidx, _filefullpath]\n",
    "\n",
    "root_path = 'C:\\\\Users\\\\wangz\\\\Documents\\\\GitHub\\\\ECE561MachineVision\\\\FinalProject\\\\Q2\\\\fruits\\\\fruits-360_dataset\\\\fruits-360'\n",
    "traindir = root_path + '\\\\Training'\n",
    "testdir = root_path + '\\\\Test'\n",
    "\n",
    "trainfiles = gettrainfiles()[0]\n",
    "trainclasses = gettrainfiles()[1]\n",
    "trainfilefullpaths = gettrainfiles()[2]\n",
    "testfiles = gettestfiles()[0]\n",
    "testclasses = gettestfiles()[1]\n",
    "testfilefullpaths = gettestfiles()[2]\n",
    "\n",
    "print(\"Training Data Size: \" + str(len(trainfiles)))\n",
    "print(\"Testing Data Size: \" + str(len(testfiles)))"
   ]
  },
  {
   "cell_type": "code",
   "execution_count": 43,
   "metadata": {},
   "outputs": [
    {
     "name": "stdout",
     "output_type": "stream",
     "text": [
      "Recognition Experiment Using ImageNet pre-trained model on the Fruit360 Data:\n",
      "\t True Fruit Class \t Predicted ImageNet Class\n",
      "\t ################ \t ########################\n",
      "\n",
      "\t Apple Golden 3 \t\t Granny Smith\n",
      "\t Apple Golden 2 \t\t Granny Smith\n",
      "\t Apple Pink Lady \t\t Granny Smith\n",
      "\t Apple Pink Lady \t\t Granny Smith\n",
      "\t Apple Golden 2 \t\t Granny Smith\n",
      "\t Apple Golden 3 \t\t Granny Smith\n",
      "\t Apple Granny Smith \t\t Granny Smith\n",
      "\t Apple Pink Lady \t\t orange\n",
      "\t Apple Granny Smith \t\t Granny Smith\n",
      "\t Apple Pink Lady \t\t Granny Smith\n",
      "\t Apple Golden 2 \t\t Granny Smith\n",
      "\t Apple Golden 2 \t\t Granny Smith\n",
      "\t Apple Golden 2 \t\t Granny Smith\n",
      "\t Apple Golden 1 \t\t lemon\n",
      "\t Apple Granny Smith \t\t Granny Smith\n",
      "\t Apple Golden 2 \t\t Granny Smith\n",
      "\t Apple Golden 2 \t\t Granny Smith\n",
      "\t Apple Pink Lady \t\t pomegranate\n",
      "\t Apple Golden 3 \t\t Granny Smith\n",
      "\t Apple Golden 1 \t\t lemon\n",
      "\t Apple Pink Lady \t\t orange\n",
      "\t Apple Golden 1 \t\t custard apple\n",
      "\t Apple Granny Smith \t\t Granny Smith\n",
      "\t Apple Pink Lady \t\t Granny Smith\n",
      "\t Apple Golden 2 \t\t Granny Smith\n",
      "\t Apple Golden 3 \t\t Granny Smith\n",
      "\t Apple Granny Smith \t\t Granny Smith\n",
      "\t Apple Golden 2 \t\t Granny Smith\n",
      "\t Apple Golden 3 \t\t Granny Smith\n",
      "\t Apple Granny Smith \t\t Granny Smith\n",
      "\t Apple Golden 2 \t\t Granny Smith\n",
      "\t Apple Golden 2 \t\t Granny Smith\n",
      "\t Apple Pink Lady \t\t fig\n",
      "\t Apple Golden 3 \t\t Granny Smith\n",
      "\t Apple Golden 1 \t\t lemon\n",
      "\t Apple Pink Lady \t\t Granny Smith\n",
      "\t Apple Golden 3 \t\t Granny Smith\n",
      "\t Apple Golden 3 \t\t Granny Smith\n",
      "\t Apple Golden 3 \t\t Granny Smith\n",
      "\t Apple Golden 3 \t\t Granny Smith\n",
      "\t Apple Golden 1 \t\t lemon\n",
      "\t Apple Pink Lady \t\t pomegranate\n",
      "\t Apple Golden 3 \t\t Granny Smith\n",
      "\t Apple Golden 3 \t\t Granny Smith\n",
      "\t Apple Golden 2 \t\t Granny Smith\n",
      "\t Apple Pink Lady \t\t pomegranate\n",
      "\t Apple Golden 2 \t\t Granny Smith\n",
      "\t Apple Golden 3 \t\t Granny Smith\n",
      "\t Apple Golden 3 \t\t Granny Smith\n",
      "\t Apple Pink Lady \t\t pomegranate\n"
     ]
    }
   ],
   "source": [
    "# Q2 (a) recognition experiment:\n",
    "# here I have not yet started fine-tuning the network \n",
    "with open(root_path + '\\\\' + 'imagenet_classes.txt') as f:\n",
    "    labels = [line.strip() for line in f.readlines()]\n",
    "\n",
    "model.eval()\n",
    "\n",
    "test_true, test_pred = [], []\n",
    "sample_50_image_idx = [x for x in sample(range(len(gettestfiles()[0])),50)]\n",
    "input_images = sample_50_image_paths = [Image.open(gettestfiles()[2][x]) for x in sample_50_image_idx]\n",
    "test_true = [classes[testclasses[x]] for x in sample_50_image_idx]\n",
    "for i in range(len(input_images)):\n",
    "    preprocess = transforms.Compose([\n",
    "                  transforms.CenterCrop(224),\n",
    "                  transforms.ToTensor(),\n",
    "                  transforms.Normalize(mean=[0.485, 0.456, 0.406], \n",
    "                                       std=[0.229, 0.224, 0.225]),])\n",
    "    input_tensor = preprocess(input_images[i])\n",
    "    input_batch = input_tensor.unsqueeze(0)\n",
    "    # create a mini-batch as expected by the model\n",
    "\n",
    "    # move the input and model to GPU for speed if available\n",
    "    if torch.cuda.is_available():\n",
    "        input_batch = input_batch.to('cuda')\n",
    "        model.to('cuda')\n",
    "\n",
    "    with torch.no_grad():\n",
    "        output = model(input_batch)\n",
    "    _, index = torch.max(output, 1)\n",
    "    # The output has unnormalized scores. To get probabilities, run a \n",
    "    # softmax on it (to normalize the scores to probability).\n",
    "    percentage = torch.nn.functional.softmax(output, dim=1)[0] * 100\n",
    "    pred_label_i = labels[index[0]]\n",
    "    test_pred.append(pred_label_i)\n",
    "\n",
    "print(\"Recognition Experiment Using ImageNet pre-trained model on the Fruit360 Data:\")\n",
    "print('\\t', \"True Fruit Class\", '\\t', \"Predicted ImageNet Class\")\n",
    "print('\\t', \"################\", '\\t', \"########################\\n\")\n",
    "\n",
    "for i in range(len(sample_50_image_idx)):\n",
    "    print('\\t', test_true[i], '\\t\\t', test_pred[i])"
   ]
  },
  {
   "cell_type": "code",
   "execution_count": 64,
   "metadata": {},
   "outputs": [],
   "source": [
    "# Functional Utilities\n",
    "class FiveClassFruit(Dataset):\n",
    "    def __init__(self, filelist, classlist, fullfilepath, transform=None):\n",
    "        self.filelist = filelist\n",
    "        self.classlist = classlist\n",
    "        self.fullfilepath = fullfilepath\n",
    "        self.transform = transform\n",
    "    \n",
    "    def __len__(self):\n",
    "        assert len(self.filelist) == len(self.classlist) == len(self.fullfilepath)\n",
    "        return len(self.filelist)\n",
    "    \n",
    "    def __getitem__(self, idx):\n",
    "        img_name = self.filelist[idx]            \n",
    "        fullname = self.fullfilepath[idx]\n",
    "        cls = self.classlist[idx]\n",
    "        image = Image.open(fullname)\n",
    "        if self.transform:\n",
    "            image = self.transform(image)\n",
    "        return [image, cls]\n",
    "\n",
    "def get_data_loaders(train_batch_size=8, val_batch_size=2):    \n",
    "    data_transform = Compose([Resize((224,224)),\n",
    "                              CenterCrop(224),\n",
    "                              ToTensor(), \n",
    "                              Normalize(mean=[0.485, 0.456, 0.406],\n",
    "                                        std=[0.229, 0.224, 0.225])])\n",
    "\n",
    "    train_loader = DataLoader(FiveClassFruit(trainfiles, \n",
    "                                             trainclasses,\n",
    "                                             trainfilefullpaths, \n",
    "                                             transform=data_transform),\n",
    "                              batch_size=train_batch_size, shuffle=True)\n",
    "\n",
    "    val_loader = DataLoader(FiveClassFruit(testfiles, \n",
    "                                           testclasses,\n",
    "                                           testfilefullpaths, \n",
    "                                           transform=data_transform),\n",
    "                            batch_size=val_batch_size, shuffle=False)\n",
    "    # use the train dataset for both train and validation (no labels on testset)\n",
    "    return train_loader, val_loader\n",
    "\n",
    "def calculate_metric(metric_fn, true_y, pred_y):\n",
    "    # multi class problems need to have averaging method\n",
    "    if \"average\" in inspect.getfullargspec(metric_fn).args:\n",
    "        return metric_fn(true_y, pred_y, average=\"macro\")\n",
    "    else:\n",
    "        return metric_fn(true_y, pred_y)\n",
    "    \n",
    "def print_scores(p, r, f1, a, batch_size):\n",
    "    for name, scores in zip((\"precision\", \"recall\", \"F1\", \"accuracy\"), (p, r, f1, a)):\n",
    "        print(f\"\\t{name.rjust(14, ' ')}: {sum(scores)/batch_size:.4f}\")\n",
    "\n",
    "def train_and_val(model):\n",
    "    losses.append([]) # training losses\n",
    "    losses.append([]) # validation losses\n",
    "    \n",
    "    batches = len(train_loader)\n",
    "    val_batches = len(val_loader)\n",
    "\n",
    "    # loop for every epoch (training + evaluation)\n",
    "    for epoch in range(epochs):\n",
    "        total_loss = 0\n",
    "\n",
    "        # progress bar\n",
    "        progress = tqdm(enumerate(train_loader), desc=\"Loss: \", total=batches)\n",
    "\n",
    "        # ----------------- TRAINING  -------------------- \n",
    "        # set model to training\n",
    "        model.train()\n",
    "        for i, data in progress:\n",
    "            X, y = data[0].to(device), data[1].to(device)\n",
    "\n",
    "            # training step for single batch\n",
    "            model.zero_grad()\n",
    "            outputs = model(X)\n",
    "            loss = loss_function(outputs, y)\n",
    "            loss.backward()\n",
    "            optimizer.step()\n",
    "            losses[0].append(total_loss/(i+1)) # for plotting learning curve\n",
    "\n",
    "            # getting training quality data\n",
    "            current_loss = loss.item()\n",
    "            total_loss += current_loss\n",
    "\n",
    "            # updating progress bar\n",
    "            progress.set_description(\"Loss: {:.4f}\".format(total_loss/(i+1)))\n",
    "\n",
    "        # releasing unceseccary memory in GPU\n",
    "        if torch.cuda.is_available():\n",
    "            torch.cuda.empty_cache()\n",
    "\n",
    "        # ----------------- VALIDATION  ----------------- \n",
    "        val_losses = 0\n",
    "        precision, recall, f1, accuracy = [], [], [], []\n",
    "        true_cls, pred_cls = [], []\n",
    "        # set model to evaluating (testing)\n",
    "        model.eval()\n",
    "        with torch.no_grad():\n",
    "            for i, data in enumerate(val_loader):\n",
    "                X, y = data[0].to(device), data[1].to(device)\n",
    "                # Get's the prediction (outputs) from the network\n",
    "                outputs = model(X)\n",
    "                losses[1].append(val_losses/(i+1)) # for plotting learning curve\n",
    "\n",
    "                val_losses += loss_function(outputs, y)\n",
    "\n",
    "                predicted_classes = torch.max(outputs, 1)[1] # get class from network's prediction\n",
    "                true_cls.extend(y.cpu())\n",
    "                pred_cls.extend(predicted_classes.cpu())\n",
    "\n",
    "                # calculate P/R/F1/A metrics for batch\n",
    "                for acc, metric in zip((precision, recall, f1, accuracy), \n",
    "                                       (precision_score, recall_score, f1_score, accuracy_score)):\n",
    "                    acc.append(calculate_metric(metric, \n",
    "                                                y.cpu(), predicted_classes.cpu()))\n",
    "            print(confusion_matrix(true_cls, pred_cls, labels=[0,1,2,3,4]))\n",
    "            print(f\"Epoch {epoch+1}/{epochs}, training loss: {total_loss/batches}, validation loss: {val_losses/val_batches}\")\n",
    "            print_scores(precision, recall, f1, accuracy, val_batches)\n",
    "    plt.plot(np.array(losses[0]) , 'r', label=\"train\")\n",
    "    plt.plot(np.array(losses[1]) , 'b', label=\"validation\")\n",
    "    plt.legend(loc=\"upper right\")\n",
    "    print(f\"Training time: {time.time()-start_ts}s\")"
   ]
  },
  {
   "cell_type": "code",
   "execution_count": 65,
   "metadata": {},
   "outputs": [
    {
     "name": "stderr",
     "output_type": "stream",
     "text": [
      "Using cache found in C:\\Users\\wangz/.cache\\torch\\hub\\pytorch_vision_master\n"
     ]
    },
    {
     "name": "stdout",
     "output_type": "stream",
     "text": [
      "Pretrained ResNet18 with fine-tuning the fully-connected layer only:\n",
      "Batch Norms are all activated as pretraied parameters:\n"
     ]
    },
    {
     "data": {
      "application/vnd.jupyter.widget-view+json": {
       "model_id": "b5635785b73841aea4665ae5614a559b",
       "version_major": 2,
       "version_minor": 0
      },
      "text/plain": [
       "HBox(children=(IntProgress(value=0, description='Loss: ', max=38, style=ProgressStyle(description_width='initi…"
      ]
     },
     "metadata": {},
     "output_type": "display_data"
    },
    {
     "name": "stdout",
     "output_type": "stream",
     "text": [
      "\n",
      "[[164   0   0   0   0]\n",
      " [  0 164   0   0   0]\n",
      " [  0   0 161   0   0]\n",
      " [  0   3  20 141   0]\n",
      " [  0   0   0   0 152]]\n",
      "Epoch 1/3, training loss: 0.6792712768441752, validation loss: 0.30870378017425537\n",
      "\t     precision: 0.9542\n",
      "\t        recall: 0.9420\n",
      "\t            F1: 0.9465\n",
      "\t      accuracy: 0.9718\n"
     ]
    },
    {
     "data": {
      "application/vnd.jupyter.widget-view+json": {
       "model_id": "12f2f18da35c40e2b71d3f4fc3fa9598",
       "version_major": 2,
       "version_minor": 0
      },
      "text/plain": [
       "HBox(children=(IntProgress(value=0, description='Loss: ', max=38, style=ProgressStyle(description_width='initi…"
      ]
     },
     "metadata": {},
     "output_type": "display_data"
    },
    {
     "name": "stdout",
     "output_type": "stream",
     "text": [
      "\n",
      "[[164   0   0   0   0]\n",
      " [  0 164   0   0   0]\n",
      " [  0   0 161   0   0]\n",
      " [  0   0  12 152   0]\n",
      " [  0   0   0   0 152]]\n",
      "Epoch 2/3, training loss: 0.18680929686678083, validation loss: 0.14888235926628113\n",
      "\t     precision: 0.9706\n",
      "\t        recall: 0.9632\n",
      "\t            F1: 0.9663\n",
      "\t      accuracy: 0.9853\n"
     ]
    },
    {
     "data": {
      "application/vnd.jupyter.widget-view+json": {
       "model_id": "aba91ca2b61142c7b34e3ababea8c8d9",
       "version_major": 2,
       "version_minor": 0
      },
      "text/plain": [
       "HBox(children=(IntProgress(value=0, description='Loss: ', max=38, style=ProgressStyle(description_width='initi…"
      ]
     },
     "metadata": {},
     "output_type": "display_data"
    },
    {
     "name": "stdout",
     "output_type": "stream",
     "text": [
      "\n",
      "[[164   0   0   0   0]\n",
      " [  0 164   0   0   0]\n",
      " [  0   0 161   0   0]\n",
      " [  0   0  22 142   0]\n",
      " [  0   0   0   0 152]]\n",
      "Epoch 3/3, training loss: 0.10431137347691938, validation loss: 0.12675422430038452\n",
      "\t     precision: 0.9542\n",
      "\t        recall: 0.9409\n",
      "\t            F1: 0.9458\n",
      "\t      accuracy: 0.9730\n",
      "Training time: 47.93038487434387s\n"
     ]
    },
    {
     "data": {
      "image/png": "[encoded data removed]",
      "text/plain": [
       "<Figure size 432x288 with 1 Axes>"
      ]
     },
     "metadata": {
      "needs_background": "light"
     },
     "output_type": "display_data"
    }
   ],
   "source": [
    "# Use ResNet18 for fine-tuning fully connected layer to achieve the best results\n",
    "model = torch.hub.load('pytorch/vision', 'resnet18', pretrained=True)\n",
    "# Fine-tuning: First modify the model configurations\n",
    "# set all weights to be fixed: not back-propogating gradients\n",
    "# set the number of classes as 5 (required by the project)\n",
    "# replace the last layer with our custmozied linear layer with 5 out features (5 classes)\n",
    "class_num = len(classes)\n",
    "channel_in = model.fc.in_features\n",
    "\n",
    "model.fc = nn.Linear(in_features=channel_in, out_features=class_num)\n",
    "for params in model.parameters():\n",
    "    params.requires_grad = False\n",
    "\n",
    "# set the fully connected layer to be trainable: require back-propogation of gradients\n",
    "for params in model.fc.parameters():\n",
    "    params.requires_grad = True\n",
    "\n",
    "epochs = 3\n",
    "train_loader, val_loader = get_data_loaders(64,16)# put your data loader here, play with batch size to satisfy cuda\n",
    "loss_function = nn.CrossEntropyLoss() # your loss function, cross entropy works well for multi-class problems\n",
    "\n",
    "# optimizer, try Adam this time to have a taste\n",
    "# optimize the full connection layer only, magic numbers from online resource\n",
    "optimizer = optim.Adam(model.fc.parameters(), lr=0.001, betas=(0.9, 0.999))\n",
    "\n",
    "os.environ['CUDA_VISIBLE_DEVICES']='0'\n",
    "\n",
    "start_ts = time.time()\n",
    "device = torch.device(\"cuda:0\" if torch.cuda.is_available() else \"cpu\")\n",
    "use_cuda = True\n",
    "\n",
    "torch.cuda.empty_cache()\n",
    "model.cuda()\n",
    "\n",
    "losses = []\n",
    "\n",
    "print(\"Pretrained ResNet18 with fine-tuning the fully-connected layer only:\")\n",
    "print(\"Batch Norms are all activated as pretraied parameters:\")\n",
    "\n",
    "train_and_val(model)"
   ]
  },
  {
   "cell_type": "code",
   "execution_count": 66,
   "metadata": {},
   "outputs": [
    {
     "name": "stderr",
     "output_type": "stream",
     "text": [
      "Using cache found in C:\\Users\\wangz/.cache\\torch\\hub\\pytorch_vision_master\n"
     ]
    },
    {
     "name": "stdout",
     "output_type": "stream",
     "text": [
      "Pretrained ResNet18 with fine-tuning the fully-connected layer only:\n",
      "Last layer Batch Norm Children are all deactivated (replaced by Identitiy layer):\n",
      "\n"
     ]
    },
    {
     "data": {
      "application/vnd.jupyter.widget-view+json": {
       "model_id": "8f8102dea54d48af9e19aef1c6aa5f06",
       "version_major": 2,
       "version_minor": 0
      },
      "text/plain": [
       "HBox(children=(IntProgress(value=0, description='Loss: ', max=38, style=ProgressStyle(description_width='initi…"
      ]
     },
     "metadata": {},
     "output_type": "display_data"
    },
    {
     "name": "stdout",
     "output_type": "stream",
     "text": [
      "\n"
     ]
    },
    {
     "name": "stderr",
     "output_type": "stream",
     "text": [
      "C:\\Users\\wangz\\.conda\\envs\\py36cv\\lib\\site-packages\\sklearn\\metrics\\classification.py:1437: UndefinedMetricWarning: Precision is ill-defined and being set to 0.0 in labels with no predicted samples.\n",
      "  'precision', 'predicted', average, warn_for)\n",
      "C:\\Users\\wangz\\.conda\\envs\\py36cv\\lib\\site-packages\\sklearn\\metrics\\classification.py:1437: UndefinedMetricWarning: F-score is ill-defined and being set to 0.0 in labels with no predicted samples.\n",
      "  'precision', 'predicted', average, warn_for)\n"
     ]
    },
    {
     "name": "stdout",
     "output_type": "stream",
     "text": [
      "[[164   0   0   0   0]\n",
      " [160   4   0   0   0]\n",
      " [161   0   0   0   0]\n",
      " [ 96   7   0  61   0]\n",
      " [141   0   0   0  11]]\n",
      "Epoch 1/10, training loss: 1.5649245381355286, validation loss: 1.5272979736328125\n",
      "\t     precision: 0.3374\n",
      "\t        recall: 0.2506\n",
      "\t            F1: 0.2608\n",
      "\t      accuracy: 0.2941\n"
     ]
    },
    {
     "data": {
      "application/vnd.jupyter.widget-view+json": {
       "model_id": "bcd3c5f31e1540c6becd68d68a74a83d",
       "version_major": 2,
       "version_minor": 0
      },
      "text/plain": [
       "HBox(children=(IntProgress(value=0, description='Loss: ', max=38, style=ProgressStyle(description_width='initi…"
      ]
     },
     "metadata": {},
     "output_type": "display_data"
    },
    {
     "name": "stdout",
     "output_type": "stream",
     "text": [
      "\n",
      "[[164   0   0   0   0]\n",
      " [148  16   0   0   0]\n",
      " [131   0  16  14   0]\n",
      " [  1   0   0 163   0]\n",
      " [ 59   0   0   0  93]]\n",
      "Epoch 2/10, training loss: 1.4789094705330699, validation loss: 1.4479002952575684\n",
      "\t     precision: 0.5923\n",
      "\t        recall: 0.4800\n",
      "\t            F1: 0.4936\n",
      "\t      accuracy: 0.5674\n"
     ]
    },
    {
     "data": {
      "application/vnd.jupyter.widget-view+json": {
       "model_id": "877ac3a4c0e74532b25405fdcc818c9a",
       "version_major": 2,
       "version_minor": 0
      },
      "text/plain": [
       "HBox(children=(IntProgress(value=0, description='Loss: ', max=38, style=ProgressStyle(description_width='initi…"
      ]
     },
     "metadata": {},
     "output_type": "display_data"
    },
    {
     "name": "stdout",
     "output_type": "stream",
     "text": [
      "\n",
      "[[164   0   0   0   0]\n",
      " [ 43 121   0   0   0]\n",
      " [ 35  29  86  11   0]\n",
      " [  0   0   0 164   0]\n",
      " [ 21   0   0   0 131]]\n",
      "Epoch 3/10, training loss: 1.3996672002892745, validation loss: 1.3763163089752197\n",
      "\t     precision: 0.7700\n",
      "\t        recall: 0.7103\n",
      "\t            F1: 0.7275\n",
      "\t      accuracy: 0.8297\n"
     ]
    },
    {
     "data": {
      "application/vnd.jupyter.widget-view+json": {
       "model_id": "e0052533f74749daa09bd701822b8b47",
       "version_major": 2,
       "version_minor": 0
      },
      "text/plain": [
       "HBox(children=(IntProgress(value=0, description='Loss: ', max=38, style=ProgressStyle(description_width='initi…"
      ]
     },
     "metadata": {},
     "output_type": "display_data"
    },
    {
     "name": "stdout",
     "output_type": "stream",
     "text": [
      "\n",
      "[[164   0   0   0   0]\n",
      " [ 35 129   0   0   0]\n",
      " [ 27   7 100  27   0]\n",
      " [  0   0   0 164   0]\n",
      " [ 15   0   0   0 137]]\n",
      "Epoch 4/10, training loss: 1.3260411620140076, validation loss: 1.3101083040237427\n",
      "\t     precision: 0.7817\n",
      "\t        recall: 0.7346\n",
      "\t            F1: 0.7501\n",
      "\t      accuracy: 0.8640\n"
     ]
    },
    {
     "data": {
      "application/vnd.jupyter.widget-view+json": {
       "model_id": "24c03dc2dbb94336a88dac48170157bf",
       "version_major": 2,
       "version_minor": 0
      },
      "text/plain": [
       "HBox(children=(IntProgress(value=0, description='Loss: ', max=38, style=ProgressStyle(description_width='initi…"
      ]
     },
     "metadata": {},
     "output_type": "display_data"
    },
    {
     "name": "stdout",
     "output_type": "stream",
     "text": [
      "\n",
      "[[164   0   0   0   0]\n",
      " [ 60 104   0   0   0]\n",
      " [ 17   0 142   2   0]\n",
      " [  0   0   0 164   0]\n",
      " [  7   0   0   0 145]]\n",
      "Epoch 5/10, training loss: 1.2586437275535183, validation loss: 1.245453119277954\n",
      "\t     precision: 0.8340\n",
      "\t        recall: 0.7862\n",
      "\t            F1: 0.8003\n",
      "\t      accuracy: 0.8946\n"
     ]
    },
    {
     "data": {
      "application/vnd.jupyter.widget-view+json": {
       "model_id": "e51248f7bdf840c6ad45f6a8ba312c8f",
       "version_major": 2,
       "version_minor": 0
      },
      "text/plain": [
       "HBox(children=(IntProgress(value=0, description='Loss: ', max=38, style=ProgressStyle(description_width='initi…"
      ]
     },
     "metadata": {},
     "output_type": "display_data"
    },
    {
     "name": "stdout",
     "output_type": "stream",
     "text": [
      "\n",
      "[[164   0   0   0   0]\n",
      " [ 11 153   0   0   0]\n",
      " [ 13   7 134   7   0]\n",
      " [  0   0   0 164   0]\n",
      " [  6   0   0   0 146]]\n",
      "Epoch 6/10, training loss: 1.1965293821535612, validation loss: 1.1874240636825562\n",
      "\t     precision: 0.8480\n",
      "\t        recall: 0.8268\n",
      "\t            F1: 0.8351\n",
      "\t      accuracy: 0.9461\n"
     ]
    },
    {
     "data": {
      "application/vnd.jupyter.widget-view+json": {
       "model_id": "042ff55e2861406c8de012be03b6cca2",
       "version_major": 2,
       "version_minor": 0
      },
      "text/plain": [
       "HBox(children=(IntProgress(value=0, description='Loss: ', max=38, style=ProgressStyle(description_width='initi…"
      ]
     },
     "metadata": {},
     "output_type": "display_data"
    },
    {
     "name": "stdout",
     "output_type": "stream",
     "text": [
      "\n",
      "[[164   0   0   0   0]\n",
      " [  2 162   0   0   0]\n",
      " [  8   3 147   3   0]\n",
      " [  0   0   0 164   0]\n",
      " [  0   0   0   0 152]]\n",
      "Epoch 7/10, training loss: 1.135680891965565, validation loss: 1.131540298461914\n",
      "\t     precision: 0.9314\n",
      "\t        recall: 0.9222\n",
      "\t            F1: 0.9260\n",
      "\t      accuracy: 0.9804\n"
     ]
    },
    {
     "data": {
      "application/vnd.jupyter.widget-view+json": {
       "model_id": "73d5735ec71d403faf4c5ac4d64ea881",
       "version_major": 2,
       "version_minor": 0
      },
      "text/plain": [
       "HBox(children=(IntProgress(value=0, description='Loss: ', max=38, style=ProgressStyle(description_width='initi…"
      ]
     },
     "metadata": {},
     "output_type": "display_data"
    },
    {
     "name": "stdout",
     "output_type": "stream",
     "text": [
      "\n",
      "[[164   0   0   0   0]\n",
      " [  0 164   0   0   0]\n",
      " [  5   6 147   3   0]\n",
      " [  0   0   0 164   0]\n",
      " [  0   0   0   0 152]]\n",
      "Epoch 8/10, training loss: 1.0797529000984996, validation loss: 1.0828502178192139\n",
      "\t     precision: 0.9346\n",
      "\t        recall: 0.9281\n",
      "\t            F1: 0.9309\n",
      "\t      accuracy: 0.9828\n"
     ]
    },
    {
     "data": {
      "application/vnd.jupyter.widget-view+json": {
       "model_id": "99f9bfe8211c49feacf2514816ad2840",
       "version_major": 2,
       "version_minor": 0
      },
      "text/plain": [
       "HBox(children=(IntProgress(value=0, description='Loss: ', max=38, style=ProgressStyle(description_width='initi…"
      ]
     },
     "metadata": {},
     "output_type": "display_data"
    },
    {
     "name": "stdout",
     "output_type": "stream",
     "text": [
      "\n",
      "[[164   0   0   0   0]\n",
      " [  0 164   0   0   0]\n",
      " [  5   6 147   3   0]\n",
      " [  0   0   0 164   0]\n",
      " [  0   0   0   0 152]]\n",
      "Epoch 9/10, training loss: 1.028961796509592, validation loss: 1.0355521440505981\n",
      "\t     precision: 0.9346\n",
      "\t        recall: 0.9281\n",
      "\t            F1: 0.9309\n",
      "\t      accuracy: 0.9828\n"
     ]
    },
    {
     "data": {
      "application/vnd.jupyter.widget-view+json": {
       "model_id": "c293af1da2d44ffb9aff6b2a6781ef45",
       "version_major": 2,
       "version_minor": 0
      },
      "text/plain": [
       "HBox(children=(IntProgress(value=0, description='Loss: ', max=38, style=ProgressStyle(description_width='initi…"
      ]
     },
     "metadata": {},
     "output_type": "display_data"
    },
    {
     "name": "stdout",
     "output_type": "stream",
     "text": [
      "\n",
      "[[164   0   0   0   0]\n",
      " [  1 163   0   0   0]\n",
      " [  6   2 153   0   0]\n",
      " [  0   0   0 164   0]\n",
      " [  0   0   0   0 152]]\n",
      "Epoch 10/10, training loss: 0.9842145662558707, validation loss: 0.9903035759925842\n",
      "\t     precision: 0.9641\n",
      "\t        recall: 0.9583\n",
      "\t            F1: 0.9608\n",
      "\t      accuracy: 0.9890\n",
      "Training time: 159.89371299743652s\n"
     ]
    },
    {
     "data": {
      "image/png": "[encoded data removed]",
      "text/plain": [
       "<Figure size 432x288 with 1 Axes>"
      ]
     },
     "metadata": {
      "needs_background": "light"
     },
     "output_type": "display_data"
    }
   ],
   "source": [
    "# Use ResNet18 for testing Batch Normalization\n",
    "# ResNet pretrained models already uses BatchNorm at each layer\n",
    "# At this experiment, deactivate some BatchNorm children layers to see the performance difference\n",
    "# Still need to modify the fc layer because we are dealing with a five-class classification problem\n",
    "model = torch.hub.load('pytorch/vision', 'resnet18', pretrained=True)\n",
    "# set the number of classes as 5 (required by the project)\n",
    "# replace the last layer with our custmozied linear layer with 5 out features (5 classes)\n",
    "class_num = len(classes)\n",
    "channel_in = model.fc.in_features\n",
    "model.fc = nn.Linear(in_features=channel_in, out_features=class_num)\n",
    "\n",
    "# Deactivating the BatchNorms of the last layer\n",
    "model.layer4[0].bn1 = nn.Identity()\n",
    "model.layer4[0].bn2 = nn.Identity()\n",
    "model.layer4[1].bn1 = nn.Identity()\n",
    "model.layer4[1].bn2 = nn.Identity()\n",
    "\n",
    "\n",
    "# Fine-tuning: First modify the model configurations\n",
    "# set all weights to be fixed: not back-propogating gradients\n",
    "for params in model.parameters():\n",
    "    params.requires_grad = False\n",
    "\n",
    "# set the fully connected layer to be trainable: require back-propogation of gradients\n",
    "for params in model.fc.parameters():\n",
    "    params.requires_grad = True\n",
    "\n",
    "\n",
    "\n",
    "epochs = 10\n",
    "train_loader, val_loader = get_data_loaders(64,16)# put your data loader here, play with batch size to satisfy cuda\n",
    "loss_function = nn.CrossEntropyLoss() # your loss function, cross entropy works well for multi-class problems\n",
    "\n",
    "# optimizer, try Adam this time to have a taste\n",
    "# optimize the full connection layer only, magic numbers from online resource\n",
    "optimizer = optim.Adam(model.fc.parameters(), lr=0.001, betas=(0.9, 0.999))\n",
    "\n",
    "os.environ['CUDA_VISIBLE_DEVICES']='0'\n",
    "\n",
    "start_ts = time.time()\n",
    "device = torch.device(\"cuda:0\" if torch.cuda.is_available() else \"cpu\")\n",
    "use_cuda = True\n",
    "\n",
    "torch.cuda.empty_cache()\n",
    "model.cuda()\n",
    "\n",
    "losses = []\n",
    "\n",
    "print(\"Pretrained ResNet18 with fine-tuning the fully-connected layer only:\")\n",
    "print(\"Last layer Batch Norm Children are all deactivated (replaced by Identitiy layer):\\n\")\n",
    "\n",
    "train_and_val(model)"
   ]
  },
  {
   "cell_type": "code",
   "execution_count": 67,
   "metadata": {
    "colab": {
     "base_uri": "https://localhost:8080/",
     "height": 1000
    },
    "colab_type": "code",
    "id": "1RBxcvnJm3OP",
    "outputId": "8ee48c98-7828-4d0e-f086-dc886cd5fd5c"
   },
   "outputs": [
    {
     "name": "stderr",
     "output_type": "stream",
     "text": [
      "Using cache found in C:\\Users\\wangz/.cache\\torch\\hub\\pytorch_vision_master\n"
     ]
    },
    {
     "name": "stdout",
     "output_type": "stream",
     "text": [
      "Pretrained Alexnet with fine-tuning the last linear layer only:\n",
      "Alexnet With Dropout Fully Activated:\n",
      "\n"
     ]
    },
    {
     "data": {
      "application/vnd.jupyter.widget-view+json": {
       "model_id": "f44e50bbb7c1492eb1fa78e3197e14db",
       "version_major": 2,
       "version_minor": 0
      },
      "text/plain": [
       "HBox(children=(IntProgress(value=0, description='Loss: ', max=38, style=ProgressStyle(description_width='initi…"
      ]
     },
     "metadata": {},
     "output_type": "display_data"
    },
    {
     "name": "stdout",
     "output_type": "stream",
     "text": [
      "\n",
      "[[164   0   0   0   0]\n",
      " [  0 158   6   0   0]\n",
      " [  0   0 161   0   0]\n",
      " [  0   0  17 147   0]\n",
      " [  0   0   0   0 152]]\n",
      "Epoch 1/3, training loss: 60.47746202388876, validation loss: 0.25817087292671204\n",
      "\t     precision: 0.9510\n",
      "\t        recall: 0.9369\n",
      "\t            F1: 0.9423\n",
      "\t      accuracy: 0.9718\n"
     ]
    },
    {
     "data": {
      "application/vnd.jupyter.widget-view+json": {
       "model_id": "3ce514b1094c414cb25898dd4ce28b94",
       "version_major": 2,
       "version_minor": 0
      },
      "text/plain": [
       "HBox(children=(IntProgress(value=0, description='Loss: ', max=38, style=ProgressStyle(description_width='initi…"
      ]
     },
     "metadata": {},
     "output_type": "display_data"
    },
    {
     "name": "stdout",
     "output_type": "stream",
     "text": [
      "\n",
      "[[164   0   0   0   0]\n",
      " [  0 164   0   0   0]\n",
      " [  0  23 138   0   0]\n",
      " [  0   0   1 163   0]\n",
      " [  0   0   0   0 152]]\n",
      "Epoch 2/3, training loss: 1.35231897862334, validation loss: 0.45025554299354553\n",
      "\t     precision: 0.9510\n",
      "\t        recall: 0.9363\n",
      "\t            F1: 0.9399\n",
      "\t      accuracy: 0.9706\n"
     ]
    },
    {
     "data": {
      "application/vnd.jupyter.widget-view+json": {
       "model_id": "d05793d766be4e4888c66ff036222bac",
       "version_major": 2,
       "version_minor": 0
      },
      "text/plain": [
       "HBox(children=(IntProgress(value=0, description='Loss: ', max=38, style=ProgressStyle(description_width='initi…"
      ]
     },
     "metadata": {},
     "output_type": "display_data"
    },
    {
     "name": "stdout",
     "output_type": "stream",
     "text": [
      "\n",
      "[[164   0   0   0   0]\n",
      " [  0 164   0   0   0]\n",
      " [  0   9 152   0   0]\n",
      " [  0   0   0 164   0]\n",
      " [  0   0   0   0 152]]\n",
      "Epoch 3/3, training loss: 0.6754586296646219, validation loss: 0.08567622303962708\n",
      "\t     precision: 0.9706\n",
      "\t        recall: 0.9651\n",
      "\t            F1: 0.9674\n",
      "\t      accuracy: 0.9890\n",
      "Training time: 26.655691385269165s\n"
     ]
    },
    {
     "data": {
      "image/png": "[encoded data removed]",
      "text/plain": [
       "<Figure size 432x288 with 1 Axes>"
      ]
     },
     "metadata": {
      "needs_background": "light"
     },
     "output_type": "display_data"
    }
   ],
   "source": [
    "# Use Alexnet for testing Dropout Regularization\n",
    "# Alexnet already uses 0.5 in three dropout layers\n",
    "# Modify the classfier[6] of Alexnet to fine tune\n",
    "model = torch.hub.load('pytorch/vision', 'alexnet', pretrained=True)\n",
    "model.classifier[6] = nn.Linear(4096, len(classes))\n",
    "\n",
    "# set all weights to be fixed: not back-propogating gradients\n",
    "for params in model.parameters():\n",
    "    params.requires_grad = False\n",
    "\n",
    "# set the classifier[6] layer to be trainable: require back-propogation of gradients\n",
    "for params in model.classifier[6].parameters():\n",
    "    params.requires_grad = True\n",
    "\n",
    "epochs = 3\n",
    "train_loader, val_loader = get_data_loaders(64,16)# put your data loader here, play with batch size to satisfy cuda\n",
    "loss_function = nn.CrossEntropyLoss() # your loss function, cross entropy works well for multi-class problems\n",
    "\n",
    "# construct the stochastic gradient descent opimizer \n",
    "# and filter-out those parameters requiring gradient inputs (previsou layers)\n",
    "optimizer = torch.optim.SGD(params=filter(lambda p: p.requires_grad, model.parameters()), lr=0.1)\n",
    "\n",
    "os.environ['CUDA_VISIBLE_DEVICES']='0'\n",
    "\n",
    "start_ts = time.time()\n",
    "device = torch.device(\"cuda:0\" if torch.cuda.is_available() else \"cpu\")\n",
    "use_cuda = True\n",
    "\n",
    "torch.cuda.empty_cache()\n",
    "model.cuda()\n",
    "\n",
    "losses = []\n",
    "\n",
    "print(\"Pretrained Alexnet with fine-tuning the last linear layer only:\")\n",
    "print(\"Alexnet With Dropout Fully Activated:\\n\")\n",
    "train_and_val(model)"
   ]
  },
  {
   "cell_type": "code",
   "execution_count": 68,
   "metadata": {
    "colab": {},
    "colab_type": "code",
    "id": "Rzaux5ZqX14N"
   },
   "outputs": [
    {
     "name": "stderr",
     "output_type": "stream",
     "text": [
      "Using cache found in C:\\Users\\wangz/.cache\\torch\\hub\\pytorch_vision_master\n"
     ]
    },
    {
     "name": "stdout",
     "output_type": "stream",
     "text": [
      "Pretrained Alexnet with fine-tuning the last linear layer only:\n",
      "Alexnet With Dropout Fully Deactivated (replaced by Identity layers):\n",
      "\n"
     ]
    },
    {
     "data": {
      "application/vnd.jupyter.widget-view+json": {
       "model_id": "b8a4c9166e074fd8b92e10a76fcd6ccc",
       "version_major": 2,
       "version_minor": 0
      },
      "text/plain": [
       "HBox(children=(IntProgress(value=0, description='Loss: ', max=38, style=ProgressStyle(description_width='initi…"
      ]
     },
     "metadata": {},
     "output_type": "display_data"
    },
    {
     "name": "stdout",
     "output_type": "stream",
     "text": [
      "\n",
      "[[164   0   0   0   0]\n",
      " [  0 164   0   0   0]\n",
      " [  0  13 144   2   2]\n",
      " [  0   0   0 164   0]\n",
      " [  0   0   0   0 152]]\n",
      "Epoch 1/3, training loss: 52.883347611678275, validation loss: 0.23288732767105103\n",
      "\t     precision: 0.9542\n",
      "\t        recall: 0.9469\n",
      "\t            F1: 0.9490\n",
      "\t      accuracy: 0.9792\n"
     ]
    },
    {
     "data": {
      "application/vnd.jupyter.widget-view+json": {
       "model_id": "c991f5bf982c4fa9bf55b1fb9c4719e7",
       "version_major": 2,
       "version_minor": 0
      },
      "text/plain": [
       "HBox(children=(IntProgress(value=0, description='Loss: ', max=38, style=ProgressStyle(description_width='initi…"
      ]
     },
     "metadata": {},
     "output_type": "display_data"
    },
    {
     "name": "stdout",
     "output_type": "stream",
     "text": [
      "\n",
      "[[164   0   0   0   0]\n",
      " [  0 163   1   0   0]\n",
      " [  0   6 155   0   0]\n",
      " [  0   0   0 164   0]\n",
      " [  0   0   0   0 152]]\n",
      "Epoch 2/3, training loss: 0.013571308631646005, validation loss: 0.04631207510828972\n",
      "\t     precision: 0.9804\n",
      "\t        recall: 0.9761\n",
      "\t            F1: 0.9778\n",
      "\t      accuracy: 0.9914\n"
     ]
    },
    {
     "data": {
      "application/vnd.jupyter.widget-view+json": {
       "model_id": "e7fc9eb6656b4b03a467c30222317bd1",
       "version_major": 2,
       "version_minor": 0
      },
      "text/plain": [
       "HBox(children=(IntProgress(value=0, description='Loss: ', max=38, style=ProgressStyle(description_width='initi…"
      ]
     },
     "metadata": {},
     "output_type": "display_data"
    },
    {
     "name": "stdout",
     "output_type": "stream",
     "text": [
      "\n",
      "[[164   0   0   0   0]\n",
      " [  0 160   4   0   0]\n",
      " [  0   2 159   0   0]\n",
      " [  0   0   0 164   0]\n",
      " [  0   0   0   0 152]]\n",
      "Epoch 3/3, training loss: 0.0005619494538558157, validation loss: 0.030490204691886902\n",
      "\t     precision: 0.9706\n",
      "\t        recall: 0.9669\n",
      "\t            F1: 0.9686\n",
      "\t      accuracy: 0.9926\n",
      "Training time: 26.808284282684326s\n"
     ]
    },
    {
     "data": {
      "image/png": "[encoded data removed]",
      "text/plain": [
       "<Figure size 432x288 with 1 Axes>"
      ]
     },
     "metadata": {
      "needs_background": "light"
     },
     "output_type": "display_data"
    }
   ],
   "source": [
    "# Use Alexnet for testing Dropout Regularization\n",
    "# Deactivating Dropout Layers by substituion of Identify layers\n",
    "# Classifier[6] still needs to be modified because the number of classes has changed to 5\n",
    "model = torch.hub.load('pytorch/vision', 'alexnet', pretrained=True)\n",
    "model.classifier[6] = nn.Linear(4096, len(classes))\n",
    "\n",
    "# deactivate the Dropout to see if there is difference or not\n",
    "model.classifier[0] = nn.Identity()\n",
    "model.classifier[3] = nn.Identity()\n",
    "\n",
    "# set all weights to be fixed: not back-propogating gradients\n",
    "for params in model.parameters():\n",
    "    params.requires_grad = False\n",
    "\n",
    "# set the classifier[6] layer to be trainable: require back-propogation of gradients\n",
    "for params in model.classifier[6].parameters():\n",
    "    params.requires_grad = True\n",
    "\n",
    "epochs = 3\n",
    "train_loader, val_loader = get_data_loaders(64,16)# put your data loader here, play with batch size to satisfy cuda\n",
    "loss_function = nn.CrossEntropyLoss() # your loss function, cross entropy works well for multi-class problems\n",
    "\n",
    "# construct the stochastic gradient descent opimizer \n",
    "# and filter-out those parameters requiring gradient inputs (previsou layers)\n",
    "optimizer = torch.optim.SGD(params=filter(lambda p: p.requires_grad, model.parameters()), lr=0.1)\n",
    "\n",
    "os.environ['CUDA_VISIBLE_DEVICES']='0'\n",
    "\n",
    "start_ts = time.time()\n",
    "device = torch.device(\"cuda:0\" if torch.cuda.is_available() else \"cpu\")\n",
    "use_cuda = True\n",
    "\n",
    "torch.cuda.empty_cache()\n",
    "model.cuda()\n",
    "\n",
    "losses = []\n",
    "\n",
    "print(\"Pretrained Alexnet with fine-tuning the last linear layer only:\")\n",
    "print(\"Alexnet With Dropout Fully Deactivated (replaced by Identity layers):\\n\")\n",
    "train_and_val(model)"
   ]
  },
  {
   "cell_type": "code",
   "execution_count": null,
   "metadata": {},
   "outputs": [],
   "source": []
  }
 ],
 "metadata": {
  "accelerator": "GPU",
  "colab": {
   "collapsed_sections": [],
   "name": "HW5_Q2.ipynb",
   "provenance": []
  },
  "kernelspec": {
   "display_name": "Python 3",
   "language": "python",
   "name": "python3"
  },
  "language_info": {
   "codemirror_mode": {
    "name": "ipython",
    "version": 3
   },
   "file_extension": ".py",
   "mimetype": "text/x-python",
   "name": "python",
   "nbconvert_exporter": "python",
   "pygments_lexer": "ipython3",
   "version": "3.6.9"
  }
 },
 "nbformat": 4,
 "nbformat_minor": 1
}
