{
  "nbformat": 4,
  "nbformat_minor": 0,
  "metadata": {
    "colab": {
      "name": "HW5_Q3.ipynb",
      "provenance": [],
      "collapsed_sections": [],
      "include_colab_link": true
    },
    "kernelspec": {
      "name": "python3",
      "display_name": "Python 3"
    },
    "accelerator": "GPU"
  },
  "cells": [
    {
      "cell_type": "markdown",
      "metadata": {
        "id": "view-in-github",
        "colab_type": "text"
      },
      "source": [
        "<a href=\"https://colab.research.google.com/github/hegxiten/ECE561MachineVision/blob/master/HW5_Q3.ipynb\" target=\"_parent\"><img src=\"https://colab.research.google.com/assets/colab-badge.svg\" alt=\"Open In Colab\"/></a>"
      ]
    },
    {
      "cell_type": "code",
      "metadata": {
        "id": "u2P8rerJEvB-",
        "colab_type": "code",
        "colab": {}
      },
      "source": [
        "# Use the testing mode for evaluation (the whole ready-to-go model), since we \n",
        "# are not contributing to the model itself\n",
        "# If user would like to use this acceleration, select the menu option \n",
        "# \"Runtime\" -> \"Change runtime type\", select \"Hardware Accelerator\" -> \"GPU\" and\n",
        "# click \"SAVE\"\n",
        "\n",
        "%matplotlib inline\n",
        "import torch,os,torchvision\n",
        "import torch.nn as nn\n",
        "import torch.optim as optim\n",
        "import torch.nn.functional as F\n",
        "import torch\n",
        "import pandas as pd\n",
        "import numpy as np\n",
        "import matplotlib.pyplot as plt\n",
        "from torch.utils.data import DataLoader, Dataset\n",
        "from torchvision.models.resnet import ResNet, BasicBlock\n",
        "from torchvision import datasets, models, transforms\n",
        "from torchvision.transforms import Compose, ToTensor, Normalize, Resize, CenterCrop, Grayscale\n",
        "\n",
        "from tqdm.autonotebook import tqdm\n",
        "from sklearn.model_selection import StratifiedShuffleSplit\n",
        "from sklearn.metrics import confusion_matrix, precision_score, recall_score, f1_score, accuracy_score\n",
        "import inspect\n",
        "import time\n",
        "from PIL import Image"
      ],
      "execution_count": 0,
      "outputs": []
    },
    {
      "cell_type": "code",
      "metadata": {
        "id": "Y_MkfMHqPPHh",
        "colab_type": "code",
        "colab": {}
      },
      "source": [
        "# Colab library to upload files to notebook\n",
        "from google.colab import files\n",
        "\n",
        "# Install Kaggle library\n",
        "!pip install -q kaggle"
      ],
      "execution_count": 0,
      "outputs": []
    },
    {
      "cell_type": "code",
      "metadata": {
        "id": "SgRJ-qirSbqB",
        "colab_type": "code",
        "outputId": "a7dc2246-502b-45d6-8697-435daa6eade4",
        "colab": {
          "resources": {
            "http://localhost:8080/nbextensions/google.colab/files.js": {
              "data": "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",
              "ok": true,
              "headers": [
                [
                  "content-type",
                  "application/javascript"
                ]
              ],
              "status": 200,
              "status_text": ""
            }
          },
          "base_uri": "https://localhost:8080/",
          "height": 91
        }
      },
      "source": [
        "# Upload kaggle API key file\n",
        "uploaded = files.upload()\n",
        "# moved "
      ],
      "execution_count": 0,
      "outputs": [
        {
          "output_type": "display_data",
          "data": {
            "text/html": [
              "\n",
              "     <input type=\"file\" id=\"files-8d9ae7b3-f130-40ed-bdc7-6721bab714fe\" name=\"files[]\" multiple disabled />\n",
              "     <output id=\"result-8d9ae7b3-f130-40ed-bdc7-6721bab714fe\">\n",
              "      Upload widget is only available when the cell has been executed in the\n",
              "      current browser session. Please rerun this cell to enable.\n",
              "      </output>\n",
              "      <script src=\"/nbextensions/google.colab/files.js\"></script> "
            ],
            "text/plain": [
              "<IPython.core.display.HTML object>"
            ]
          },
          "metadata": {
            "tags": []
          }
        },
        {
          "output_type": "stream",
          "text": [
            "Saving kaggle.json to kaggle (1).json\n",
            "'kaggle (1).json'   kaggle.json   \u001b[0m\u001b[01;34msample_data\u001b[0m/\n"
          ],
          "name": "stdout"
        }
      ]
    },
    {
      "cell_type": "code",
      "metadata": {
        "id": "rEaGqdyAS4lP",
        "colab_type": "code",
        "outputId": "8673c25e-d74d-4d36-a0d5-a1b8436c65b8",
        "colab": {
          "base_uri": "https://localhost:8080/",
          "height": 85
        }
      },
      "source": [
        "# Mount Google Drive to access pictures\n",
        "from google.colab import drive\n",
        "drive.mount('/content/gdrive')\n",
        "# Check if Google Drive is mounted\n",
        "%cd /content/gdrive\n",
        "%ls\n",
        "%cd /content/gdrive/My\\ Drive/Colab\\ Notebooks/HW5_files/dogs-vs-cats/"
      ],
      "execution_count": 12,
      "outputs": [
        {
          "output_type": "stream",
          "text": [
            "Drive already mounted at /content/gdrive; to attempt to forcibly remount, call drive.mount(\"/content/gdrive\", force_remount=True).\n",
            "/content/gdrive\n",
            "\u001b[0m\u001b[01;34m'My Drive'\u001b[0m/\n",
            "/content/gdrive/My Drive/Colab Notebooks/HW5_files/dogs-vs-cats\n"
          ],
          "name": "stdout"
        }
      ]
    },
    {
      "cell_type": "code",
      "metadata": {
        "id": "WGfWKxUkTMwm",
        "colab_type": "code",
        "outputId": "75cf469e-33ff-427e-d798-5a8967405700",
        "colab": {
          "base_uri": "https://localhost:8080/",
          "height": 204
        }
      },
      "source": [
        "# Download data for the nyc_taxi_trip_duration challenge\n",
        "!kaggle competitions download -c dogs-vs-cats"
      ],
      "execution_count": 0,
      "outputs": [
        {
          "output_type": "stream",
          "text": [
            "Warning: Your Kaggle API key is readable by other users on this system! To fix this, you can run 'chmod 600 /root/.kaggle/kaggle.json'\n",
            "Warning: Looks like you're using an outdated API Version, please consider updating (server 1.5.6 / client 1.5.4)\n",
            "Downloading sampleSubmission.csv to /root\n",
            "  0% 0.00/86.8k [00:00<?, ?B/s]\n",
            "100% 86.8k/86.8k [00:00<00:00, 34.0MB/s]\n",
            "Downloading test1.zip to /root\n",
            " 97% 263M/271M [00:09<00:00, 48.1MB/s]\n",
            "100% 271M/271M [00:10<00:00, 27.8MB/s]\n",
            "Downloading train.zip to /root\n",
            " 96% 521M/543M [00:15<00:01, 22.3MB/s]\n",
            "100% 543M/543M [00:15<00:00, 36.1MB/s]\n"
          ],
          "name": "stdout"
        }
      ]
    },
    {
      "cell_type": "code",
      "metadata": {
        "id": "6PFxxwPzTT-m",
        "colab_type": "code",
        "colab": {}
      },
      "source": [
        "# Fetch 10 different customized images from mounted Google Drive, \n",
        "import os\n",
        "root_path = '/content/gdrive/My Drive/Colab Notebooks/HW5_files/dogs-vs-cats/'\n",
        "traindir = root_path + 'train/'\n",
        "testdir = root_path + 'test1/'\n",
        "\n",
        "trainfiles = os.listdir(traindir)\n",
        "testfiles = os.listdir(testdir)"
      ],
      "execution_count": 0,
      "outputs": []
    },
    {
      "cell_type": "code",
      "metadata": {
        "id": "TEGS4iTP1U-k",
        "colab_type": "code",
        "colab": {}
      },
      "source": [
        "class CatDogDataset(Dataset):\n",
        "    def __init__(self, filelist, root_dir, transform=None):\n",
        "        self.filelist = filelist\n",
        "        self.root_dir = root_dir\n",
        "        self.transform = transform\n",
        "    \n",
        "    def __len__(self):\n",
        "        return len(self.filelist)\n",
        "    \n",
        "    def __getitem__(self, idx):\n",
        "        img_name = self.filelist[idx]\n",
        "        fullname = os.path.join(self.root_dir, img_name)\n",
        "        image = Image.open(fullname)\n",
        "        if \"cat\" in img_name:\n",
        "            cls = 0\n",
        "        elif \"dog\" in img_name:\n",
        "            cls = 1\n",
        "        else:\n",
        "            raise Exception(\"Input Image Not Labelled Correctly\")\n",
        "        if self.transform:\n",
        "            image = self.transform(image)\n",
        "        return [image, cls]\n",
        "\n",
        "def get_data_loaders(train_batch_size=256, val_batch_size=64):    \n",
        "    # Ugly method to hardcode convert 1 channel grayscale to 3 channel RGB-like\n",
        "    # but it is still gray input (due to MNIST from torchvision) \n",
        "    # See https://discuss.pytorch.org/t/how-to-get-mnist-data-from-torchvision-with-three-channels-for-some-pretrained-model-like-vgg/21872\n",
        "    data_transform = Compose([Resize((224,224)),\n",
        "                              CenterCrop(224),\n",
        "                              ToTensor(), \n",
        "                              Normalize(mean=[0.485, 0.456, 0.406],\n",
        "                                        std=[0.229, 0.224, 0.225])])\n",
        "\n",
        "    train_loader = DataLoader(CatDogDataset(trainfiles, \n",
        "                                            traindir, \n",
        "                                            transform=data_transform),\n",
        "                              batch_size=train_batch_size, shuffle=True)\n",
        "\n",
        "    val_loader = DataLoader(CatDogDataset(trainfiles, \n",
        "                                          traindir, \n",
        "                                          transform=data_transform),\n",
        "                            batch_size=val_batch_size, shuffle=False)\n",
        "    # use the train dataset for both train and validation (no labels on testset)\n",
        "    return train_loader, val_loader\n",
        "\n",
        "def calculate_metric(metric_fn, true_y, pred_y):\n",
        "    # multi class problems need to have averaging method\n",
        "    if \"average\" in inspect.getfullargspec(metric_fn).args:\n",
        "        return metric_fn(true_y, pred_y, average=\"macro\")\n",
        "    else:\n",
        "        return metric_fn(true_y, pred_y)\n",
        "    \n",
        "def print_scores(p, r, f1, a, batch_size):\n",
        "    for name, scores in zip((\"precision\", \"recall\", \"F1\", \"accuracy\"), (p, r, f1, a)):\n",
        "        print(f\"\\t{name.rjust(14, ' ')}: {sum(scores)/batch_size:.4f}\")"
      ],
      "execution_count": 0,
      "outputs": []
    },
    {
      "cell_type": "code",
      "metadata": {
        "id": "_Sc4r1vAEw3y",
        "colab_type": "code",
        "outputId": "eb816e16-bb4a-49f7-c883-d49d40fe252c",
        "colab": {
          "base_uri": "https://localhost:8080/",
          "height": 402
        }
      },
      "source": [
        "model_1 = torch.hub.load('pytorch/vision', 'resnet18', pretrained=True)\n",
        "\n",
        "NUM_CLASS = 2\n",
        "in_fc_nums = model_1.fc.in_features #resnet18 number of the last input neurons\n",
        "fc = nn.Linear(in_fc_nums,  NUM_CLASS)\n",
        "model_1.fc = fc\n",
        "\n",
        "\n",
        "epochs = 5\n",
        "train_loader, val_loader = get_data_loaders()# put your data loader here\n",
        "loss_function = nn.CrossEntropyLoss() # your loss function, cross entropy works well for multi-class problems\n",
        "\n",
        "# optimizer, try Adam this time to have a tast\n",
        "# optimize the full connection layer only, magic numbers from online resource\n",
        "optimizer = optim.Adam(model_1.fc.parameters(), lr=0.001, betas=(0.9, 0.999))\n",
        "\n",
        "start_ts = time.time()\n",
        "device = torch.device(\"cuda:0\" if torch.cuda.is_available() else \"cpu\")\n",
        "use_cuda = True\n",
        "if use_cuda and torch.cuda.is_available():\n",
        "    model_1.cuda()\n",
        "\n",
        "losses = []\n",
        "\n",
        "batches = len(train_loader)\n",
        "val_batches = len(val_loader)\n",
        "\n",
        "# loop for every epoch (training + evaluation)\n",
        "for epoch in range(epochs):\n",
        "    total_loss = 0\n",
        "\n",
        "    # progress bar\n",
        "    progress = tqdm(enumerate(train_loader), desc=\"Loss: \", total=batches)\n",
        "\n",
        "    # ----------------- TRAINING  -------------------- \n",
        "    # set model to training\n",
        "    model_1.train()\n",
        "    for i, data in progress:\n",
        "        X, y = data[0].to(device), data[1].to(device)\n",
        "        \n",
        "        # training step for single batch\n",
        "        model_1.zero_grad()\n",
        "        outputs = model_1(X)\n",
        "        loss = loss_function(outputs, y)\n",
        "        loss.backward()\n",
        "        optimizer.step()\n",
        "\n",
        "        # getting training quality data\n",
        "        current_loss = loss.item()\n",
        "        total_loss += current_loss\n",
        "\n",
        "        # updating progress bar\n",
        "        progress.set_description(\"Loss: {:.4f}\".format(total_loss/(i+1)))\n",
        "        \n",
        "    # releasing unceseccary memory in GPU\n",
        "    if torch.cuda.is_available():\n",
        "        torch.cuda.empty_cache()\n",
        "    \n",
        "    # ----------------- VALIDATION  ----------------- \n",
        "    val_losses = 0\n",
        "    precision, recall, f1, accuracy = [], [], [], []\n",
        "    \n",
        "    # set model to evaluating (testing)\n",
        "    model_1.eval()\n",
        "    with torch.no_grad():\n",
        "        for i, data in enumerate(val_loader):\n",
        "            X, y = data[0].to(device), data[1].to(device)\n",
        "            # Get's the prediction (outputs) from the network\n",
        "            outputs = model_1(X) \n",
        "\n",
        "            val_losses += loss_function(outputs, y)\n",
        "\n",
        "            predicted_classes = torch.max(outputs, 1)[1] # get class from network's prediction\n",
        "            \n",
        "            # calculate P/R/F1/A metrics for batch\n",
        "            for acc, metric in zip((precision, recall, f1, accuracy), \n",
        "                                   (precision_score, recall_score, f1_score, accuracy_score)):\n",
        "                acc.append(calculate_metric(metric, \n",
        "                                            y.cpu(), predicted_classes.cpu()))\n",
        "    print(confusion_matrix(y.cpu(), predicted_classes.cpu()))\n",
        "    print(f\"Epoch {epoch+1}/{epochs}, training loss: {total_loss/batches}, validation loss: {val_losses/val_batches}\")\n",
        "    print_scores(precision, recall, f1, accuracy, val_batches)\n",
        "    losses.append(total_loss/batches) # for plotting learning curve\n",
        "print(f\"Training time: {time.time()-start_ts}s\")"
      ],
      "execution_count": 0,
      "outputs": [
        {
          "output_type": "stream",
          "text": [
            "Downloading: \"https://github.com/pytorch/vision/archive/master.zip\" to /root/.cache/torch/hub/master.zip\n",
            "Downloading: \"https://download.pytorch.org/models/resnet18-5c106cde.pth\" to /root/.cache/torch/checkpoints/resnet18-5c106cde.pth\n",
            "100%|██████████| 44.7M/44.7M [00:00<00:00, 60.7MB/s]\n"
          ],
          "name": "stderr"
        },
        {
          "output_type": "error",
          "ename": "NameError",
          "evalue": "ignored",
          "traceback": [
            "\u001b[0;31m---------------------------------------------------------------------------\u001b[0m",
            "\u001b[0;31mNameError\u001b[0m                                 Traceback (most recent call last)",
            "\u001b[0;32m<ipython-input-4-b87a3f5ccc6f>\u001b[0m in \u001b[0;36m<module>\u001b[0;34m()\u001b[0m\n\u001b[1;32m      8\u001b[0m \u001b[0;34m\u001b[0m\u001b[0m\n\u001b[1;32m      9\u001b[0m \u001b[0mepochs\u001b[0m \u001b[0;34m=\u001b[0m \u001b[0;36m5\u001b[0m\u001b[0;34m\u001b[0m\u001b[0;34m\u001b[0m\u001b[0m\n\u001b[0;32m---> 10\u001b[0;31m \u001b[0mtrain_loader\u001b[0m\u001b[0;34m,\u001b[0m \u001b[0mval_loader\u001b[0m \u001b[0;34m=\u001b[0m \u001b[0mget_data_loaders\u001b[0m\u001b[0;34m(\u001b[0m\u001b[0;34m)\u001b[0m\u001b[0;31m# put your data loader here\u001b[0m\u001b[0;34m\u001b[0m\u001b[0;34m\u001b[0m\u001b[0m\n\u001b[0m\u001b[1;32m     11\u001b[0m \u001b[0mloss_function\u001b[0m \u001b[0;34m=\u001b[0m \u001b[0mnn\u001b[0m\u001b[0;34m.\u001b[0m\u001b[0mCrossEntropyLoss\u001b[0m\u001b[0;34m(\u001b[0m\u001b[0;34m)\u001b[0m \u001b[0;31m# your loss function, cross entropy works well for multi-class problems\u001b[0m\u001b[0;34m\u001b[0m\u001b[0;34m\u001b[0m\u001b[0m\n\u001b[1;32m     12\u001b[0m \u001b[0;34m\u001b[0m\u001b[0m\n",
            "\u001b[0;32m<ipython-input-3-80de17000f18>\u001b[0m in \u001b[0;36mget_data_loaders\u001b[0;34m(train_batch_size, val_batch_size)\u001b[0m\n\u001b[1;32m     32\u001b[0m                                         std=[0.229, 0.224, 0.225])])\n\u001b[1;32m     33\u001b[0m \u001b[0;34m\u001b[0m\u001b[0m\n\u001b[0;32m---> 34\u001b[0;31m     train_loader = DataLoader(CatDogDataset(trainfiles, \n\u001b[0m\u001b[1;32m     35\u001b[0m                                             \u001b[0mtraindir\u001b[0m\u001b[0;34m,\u001b[0m\u001b[0;34m\u001b[0m\u001b[0;34m\u001b[0m\u001b[0m\n\u001b[1;32m     36\u001b[0m                                             transform=data_transform),\n",
            "\u001b[0;31mNameError\u001b[0m: name 'trainfiles' is not defined"
          ]
        }
      ]
    },
    {
      "cell_type": "code",
      "metadata": {
        "id": "VhpcyZ8iCDJa",
        "colab_type": "code",
        "colab": {}
      },
      "source": [
        "model_2 = torch.hub.load('pytorch/vision', 'resnet50', pretrained=True)\n",
        "NUM_CLASS = 2\n",
        "in_fc_nums = model_2.fc.in_features #resnet18 number of the last input neurons\n",
        "fc = nn.Linear(in_fc_nums,  NUM_CLASS)\n",
        "model_2.fc = fc\n",
        "\n",
        "epochs = 5\n",
        "train_loader, val_loader = get_data_loaders()# put your data loader here\n",
        "loss_function = nn.CrossEntropyLoss() # your loss function, cross entropy works well for multi-class problems\n",
        "\n",
        "# optimizer, try Adam this time to have a tast\n",
        "# optimize the full connection layer only, magic numbers from online resource\n",
        "optimizer = optim.Adam(model_2.fc.parameters(), lr=0.001, betas=(0.9, 0.999))\n",
        "\n",
        "start_ts = time.time()\n",
        "device = torch.device(\"cuda:0\" if torch.cuda.is_available() else \"cpu\")\n",
        "model_2.cuda()\n",
        "\n",
        "losses = []\n",
        "\n",
        "batches = len(train_loader)\n",
        "val_batches = len(val_loader)\n",
        "\n",
        "# loop for every epoch (training + evaluation)\n",
        "for epoch in range(epochs):\n",
        "    total_loss = 0\n",
        "\n",
        "    # progress bar\n",
        "    progress = tqdm(enumerate(train_loader), desc=\"Loss: \", total=batches)\n",
        "\n",
        "    # ----------------- TRAINING  -------------------- \n",
        "    # set model to training\n",
        "    model_2.train()\n",
        "    for i, data in progress:\n",
        "        X, y = data[0].to(device), data[1].to(device)\n",
        "        \n",
        "        # training step for single batch\n",
        "        model_2.zero_grad()\n",
        "        outputs = model_2(X)\n",
        "        loss = loss_function(outputs, y)\n",
        "        loss.backward()\n",
        "        optimizer.step()\n",
        "\n",
        "        # getting training quality data\n",
        "        current_loss = loss.item()\n",
        "        total_loss += current_loss\n",
        "\n",
        "        # updating progress bar\n",
        "        progress.set_description(\"Loss: {:.4f}\".format(total_loss/(i+1)))\n",
        "        \n",
        "    # releasing unceseccary memory in GPU\n",
        "    if torch.cuda.is_available():\n",
        "        torch.cuda.empty_cache()\n",
        "    \n",
        "    # ----------------- VALIDATION  ----------------- \n",
        "    val_losses = 0\n",
        "    precision, recall, f1, accuracy = [], [], [], []\n",
        "    \n",
        "    # set model to evaluating (testing)\n",
        "    model_2.eval()\n",
        "    with torch.no_grad():\n",
        "        for i, data in enumerate(val_loader):\n",
        "            X, y = data[0].to(device), data[1].to(device)\n",
        "            # Get's the prediction (outputs) from the network\n",
        "            outputs = model_2(X) \n",
        "\n",
        "            val_losses += loss_function(outputs, y)\n",
        "\n",
        "            predicted_classes = torch.max(outputs, 1)[1] # get class from network's prediction\n",
        "            \n",
        "            # calculate P/R/F1/A metrics for batch\n",
        "            for acc, metric in zip((precision, recall, f1, accuracy), \n",
        "                                   (precision_score, recall_score, f1_score, accuracy_score)):\n",
        "                acc.append(calculate_metric(metric, \n",
        "                                            y.cpu(), predicted_classes.cpu()))\n",
        "    print(confusion_matrix(y.cpu(), predicted_classes.cpu()))\n",
        "    print(f\"Epoch {epoch+1}/{epochs}, training loss: {total_loss/batches}, validation loss: {val_losses/val_batches}\")\n",
        "    print_scores(precision, recall, f1, accuracy, val_batches)\n",
        "    losses.append(total_loss/batches) # for plotting learning curve\n",
        "print(f\"Training time: {time.time()-start_ts}s\")"
      ],
      "execution_count": 0,
      "outputs": []
    },
    {
      "cell_type": "code",
      "metadata": {
        "id": "1RBxcvnJm3OP",
        "colab_type": "code",
        "outputId": "28e523be-36ea-489a-98cc-5ccacebd4883",
        "colab": {
          "base_uri": "https://localhost:8080/",
          "height": 629
        }
      },
      "source": [
        "from torch.autograd import Variable\n",
        "import torchvision\n",
        "import matplotlib.pyplot as plt\n",
        "mnist = MNIST(download=True, train=True, root=\".\").train_data.float()\n",
        "data_transform = Compose([Resize((224,224)),\n",
        "                          Grayscale(3),\n",
        "                          ToTensor(), \n",
        "                          Normalize((mnist.mean()/255,), \n",
        "                                    (mnist.std()/255,))])\n",
        "data_loader_test = DataLoader(dataset=MNIST(download=True, root=\".\", \n",
        "                                            transform=data_transform, train=True),\n",
        "                              batch_size = 200,\n",
        "                              shuffle = True)\n",
        "X_test, y_test = next(iter(data_loader_test))\n",
        "inputs = Variable(X_test.to(device))\n",
        "pred = model(inputs)\n",
        "_,pred = torch.max(pred, 1)\n",
        "print(\"Predict Label is:\", [ i for i in pred.data])\n",
        "print(\"Real Label is:\",[i for i in y_test])\n",
        "\n",
        "img = torchvision.utils.make_grid(X_test)\n",
        "img = img.numpy().transpose(1,2,0)\n",
        "\n",
        "std = [0.5,0.5,0.5]\n",
        "mean = [0.5,0.5,0.5]\n",
        "img = img*std+mean\n",
        "print(\"\\nConfusion Matrix for 10 digits from a random 200-sample validation set\")\n",
        "print(confusion_matrix(y_test, pred.cpu()))\n",
        "print(\"\\n The validation set images\")\n",
        "plt.imshow(img)\n"
      ],
      "execution_count": 0,
      "outputs": [
        {
          "output_type": "stream",
          "text": [
            "/usr/local/lib/python3.6/dist-packages/torchvision/datasets/mnist.py:53: UserWarning: train_data has been renamed data\n",
            "  warnings.warn(\"train_data has been renamed data\")\n"
          ],
          "name": "stderr"
        },
        {
          "output_type": "stream",
          "text": [
            "Predict Label is: [tensor(8, device='cuda:0'), tensor(0, device='cuda:0'), tensor(0, device='cuda:0'), tensor(7, device='cuda:0'), tensor(8, device='cuda:0'), tensor(0, device='cuda:0'), tensor(2, device='cuda:0'), tensor(4, device='cuda:0'), tensor(4, device='cuda:0'), tensor(3, device='cuda:0'), tensor(9, device='cuda:0'), tensor(2, device='cuda:0'), tensor(1, device='cuda:0'), tensor(5, device='cuda:0'), tensor(2, device='cuda:0'), tensor(1, device='cuda:0'), tensor(0, device='cuda:0'), tensor(4, device='cuda:0'), tensor(3, device='cuda:0'), tensor(8, device='cuda:0'), tensor(9, device='cuda:0'), tensor(4, device='cuda:0'), tensor(2, device='cuda:0'), tensor(0, device='cuda:0'), tensor(4, device='cuda:0'), tensor(5, device='cuda:0'), tensor(4, device='cuda:0'), tensor(3, device='cuda:0'), tensor(4, device='cuda:0'), tensor(7, device='cuda:0'), tensor(1, device='cuda:0'), tensor(7, device='cuda:0'), tensor(2, device='cuda:0'), tensor(1, device='cuda:0'), tensor(2, device='cuda:0'), tensor(1, device='cuda:0'), tensor(0, device='cuda:0'), tensor(2, device='cuda:0'), tensor(0, device='cuda:0'), tensor(2, device='cuda:0'), tensor(3, device='cuda:0'), tensor(7, device='cuda:0'), tensor(9, device='cuda:0'), tensor(3, device='cuda:0'), tensor(1, device='cuda:0'), tensor(6, device='cuda:0'), tensor(9, device='cuda:0'), tensor(1, device='cuda:0'), tensor(6, device='cuda:0'), tensor(0, device='cuda:0'), tensor(2, device='cuda:0'), tensor(7, device='cuda:0'), tensor(9, device='cuda:0'), tensor(0, device='cuda:0'), tensor(9, device='cuda:0'), tensor(0, device='cuda:0'), tensor(2, device='cuda:0'), tensor(7, device='cuda:0'), tensor(4, device='cuda:0'), tensor(3, device='cuda:0'), tensor(7, device='cuda:0'), tensor(7, device='cuda:0'), tensor(6, device='cuda:0'), tensor(3, device='cuda:0'), tensor(4, device='cuda:0'), tensor(4, device='cuda:0'), tensor(7, device='cuda:0'), tensor(1, device='cuda:0'), tensor(2, device='cuda:0'), tensor(2, device='cuda:0'), tensor(0, device='cuda:0'), tensor(7, device='cuda:0'), tensor(5, device='cuda:0'), tensor(6, device='cuda:0'), tensor(8, device='cuda:0'), tensor(3, device='cuda:0'), tensor(3, device='cuda:0'), tensor(2, device='cuda:0'), tensor(2, device='cuda:0'), tensor(6, device='cuda:0'), tensor(2, device='cuda:0'), tensor(8, device='cuda:0'), tensor(5, device='cuda:0'), tensor(4, device='cuda:0'), tensor(9, device='cuda:0'), tensor(0, device='cuda:0'), tensor(9, device='cuda:0'), tensor(3, device='cuda:0'), tensor(5, device='cuda:0'), tensor(1, device='cuda:0'), tensor(6, device='cuda:0'), tensor(7, device='cuda:0'), tensor(8, device='cuda:0'), tensor(1, device='cuda:0'), tensor(9, device='cuda:0'), tensor(0, device='cuda:0'), tensor(5, device='cuda:0'), tensor(3, device='cuda:0'), tensor(7, device='cuda:0'), tensor(5, device='cuda:0'), tensor(6, device='cuda:0'), tensor(7, device='cuda:0'), tensor(6, device='cuda:0'), tensor(8, device='cuda:0'), tensor(1, device='cuda:0'), tensor(3, device='cuda:0'), tensor(8, device='cuda:0'), tensor(8, device='cuda:0'), tensor(0, device='cuda:0'), tensor(3, device='cuda:0'), tensor(1, device='cuda:0'), tensor(8, device='cuda:0'), tensor(6, device='cuda:0'), tensor(7, device='cuda:0'), tensor(1, device='cuda:0'), tensor(4, device='cuda:0'), tensor(0, device='cuda:0'), tensor(2, device='cuda:0'), tensor(2, device='cuda:0'), tensor(7, device='cuda:0'), tensor(5, device='cuda:0'), tensor(2, device='cuda:0'), tensor(7, device='cuda:0'), tensor(3, device='cuda:0'), tensor(2, device='cuda:0'), tensor(5, device='cuda:0'), tensor(8, device='cuda:0'), tensor(9, device='cuda:0'), tensor(9, device='cuda:0'), tensor(9, device='cuda:0'), tensor(2, device='cuda:0'), tensor(0, device='cuda:0'), tensor(7, device='cuda:0'), tensor(3, device='cuda:0'), tensor(8, device='cuda:0'), tensor(8, device='cuda:0'), tensor(2, device='cuda:0'), tensor(1, device='cuda:0'), tensor(7, device='cuda:0'), tensor(2, device='cuda:0'), tensor(2, device='cuda:0'), tensor(1, device='cuda:0'), tensor(7, device='cuda:0'), tensor(2, device='cuda:0'), tensor(3, device='cuda:0'), tensor(9, device='cuda:0'), tensor(7, device='cuda:0'), tensor(4, device='cuda:0'), tensor(5, device='cuda:0'), tensor(5, device='cuda:0'), tensor(1, device='cuda:0'), tensor(8, device='cuda:0'), tensor(3, device='cuda:0'), tensor(7, device='cuda:0'), tensor(9, device='cuda:0'), tensor(8, device='cuda:0'), tensor(0, device='cuda:0'), tensor(3, device='cuda:0'), tensor(8, device='cuda:0'), tensor(5, device='cuda:0'), tensor(2, device='cuda:0'), tensor(4, device='cuda:0'), tensor(7, device='cuda:0'), tensor(7, device='cuda:0'), tensor(1, device='cuda:0'), tensor(1, device='cuda:0'), tensor(7, device='cuda:0'), tensor(0, device='cuda:0'), tensor(9, device='cuda:0'), tensor(4, device='cuda:0'), tensor(0, device='cuda:0'), tensor(2, device='cuda:0'), tensor(5, device='cuda:0'), tensor(9, device='cuda:0'), tensor(2, device='cuda:0'), tensor(9, device='cuda:0'), tensor(8, device='cuda:0'), tensor(9, device='cuda:0'), tensor(2, device='cuda:0'), tensor(2, device='cuda:0'), tensor(1, device='cuda:0'), tensor(0, device='cuda:0'), tensor(9, device='cuda:0'), tensor(1, device='cuda:0'), tensor(6, device='cuda:0'), tensor(2, device='cuda:0'), tensor(8, device='cuda:0'), tensor(3, device='cuda:0'), tensor(2, device='cuda:0'), tensor(2, device='cuda:0'), tensor(7, device='cuda:0'), tensor(9, device='cuda:0'), tensor(4, device='cuda:0'), tensor(3, device='cuda:0'), tensor(6, device='cuda:0'), tensor(1, device='cuda:0'), tensor(2, device='cuda:0'), tensor(2, device='cuda:0'), tensor(3, device='cuda:0'), tensor(8, device='cuda:0')]\n",
            "Real Label is: [tensor(8), tensor(0), tensor(0), tensor(7), tensor(8), tensor(0), tensor(2), tensor(4), tensor(4), tensor(3), tensor(9), tensor(2), tensor(1), tensor(5), tensor(2), tensor(1), tensor(0), tensor(4), tensor(3), tensor(8), tensor(9), tensor(4), tensor(2), tensor(0), tensor(4), tensor(5), tensor(4), tensor(3), tensor(4), tensor(7), tensor(1), tensor(7), tensor(2), tensor(1), tensor(2), tensor(1), tensor(0), tensor(2), tensor(0), tensor(2), tensor(3), tensor(7), tensor(9), tensor(3), tensor(1), tensor(6), tensor(9), tensor(1), tensor(6), tensor(0), tensor(2), tensor(7), tensor(4), tensor(0), tensor(9), tensor(0), tensor(7), tensor(7), tensor(4), tensor(3), tensor(7), tensor(7), tensor(6), tensor(3), tensor(4), tensor(4), tensor(7), tensor(1), tensor(2), tensor(2), tensor(0), tensor(7), tensor(5), tensor(6), tensor(8), tensor(3), tensor(3), tensor(2), tensor(2), tensor(6), tensor(2), tensor(8), tensor(5), tensor(4), tensor(9), tensor(0), tensor(9), tensor(3), tensor(5), tensor(1), tensor(6), tensor(7), tensor(8), tensor(1), tensor(9), tensor(0), tensor(5), tensor(3), tensor(7), tensor(5), tensor(6), tensor(7), tensor(6), tensor(8), tensor(1), tensor(3), tensor(8), tensor(8), tensor(0), tensor(3), tensor(1), tensor(8), tensor(6), tensor(7), tensor(1), tensor(4), tensor(0), tensor(2), tensor(2), tensor(7), tensor(5), tensor(2), tensor(7), tensor(3), tensor(2), tensor(5), tensor(8), tensor(9), tensor(9), tensor(9), tensor(2), tensor(0), tensor(7), tensor(3), tensor(8), tensor(8), tensor(2), tensor(1), tensor(7), tensor(2), tensor(2), tensor(1), tensor(7), tensor(2), tensor(3), tensor(9), tensor(7), tensor(4), tensor(5), tensor(5), tensor(1), tensor(8), tensor(3), tensor(7), tensor(9), tensor(8), tensor(0), tensor(3), tensor(8), tensor(5), tensor(2), tensor(4), tensor(7), tensor(7), tensor(1), tensor(1), tensor(7), tensor(0), tensor(9), tensor(4), tensor(0), tensor(2), tensor(5), tensor(9), tensor(2), tensor(9), tensor(8), tensor(9), tensor(2), tensor(2), tensor(1), tensor(0), tensor(9), tensor(1), tensor(6), tensor(2), tensor(8), tensor(3), tensor(2), tensor(2), tensor(7), tensor(9), tensor(4), tensor(3), tensor(6), tensor(1), tensor(2), tensor(2), tensor(3), tensor(8)]\n"
          ],
          "name": "stdout"
        },
        {
          "output_type": "stream",
          "text": [
            "Clipping input data to the valid range for imshow with RGB data ([0..1] for floats or [0..255] for integers).\n"
          ],
          "name": "stderr"
        },
        {
          "output_type": "stream",
          "text": [
            "\n",
            "Confusion Matrix for 10 digits from a random 200-sample validation set\n",
            "[[20  0  0  0  0  0  0  0  0  0]\n",
            " [ 0 21  0  0  0  0  0  0  0  0]\n",
            " [ 0  0 33  0  0  0  0  0  0  0]\n",
            " [ 0  0  0 21  0  0  0  0  0  0]\n",
            " [ 0  0  0  0 16  0  0  0  0  1]\n",
            " [ 0  0  0  0  0 13  0  0  0  0]\n",
            " [ 0  0  0  0  0  0 11  0  0  0]\n",
            " [ 0  0  1  0  0  0  0 25  0  0]\n",
            " [ 0  0  0  0  0  0  0  0 19  0]\n",
            " [ 0  0  0  0  0  0  0  0  0 19]]\n",
            "\n",
            " The validation set images\n"
          ],
          "name": "stdout"
        },
        {
          "output_type": "execute_result",
          "data": {
            "text/plain": [
              "<matplotlib.image.AxesImage at 0x7f296b9af1d0>"
            ]
          },
          "metadata": {
            "tags": []
          },
          "execution_count": 38
        },
        {
          "output_type": "display_data",
          "data": {
            "image/png": "[encoded data removed]",
            "text/plain": [
              "<Figure size 432x288 with 1 Axes>"
            ]
          },
          "metadata": {
            "tags": []
          }
        }
      ]
    }
  ]
}